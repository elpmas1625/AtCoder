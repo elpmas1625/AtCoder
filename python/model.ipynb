{
 "cells": [
  {
   "cell_type": "code",
   "execution_count": 52,
   "metadata": {},
   "outputs": [],
   "source": [
    "class CNT:\n",
    "    def __init__(self):\n",
    "        self.x = 0\n",
    "    def __call__(self):\n",
    "        self.x += 1\n",
    "        return self.x        \n",
    "\n",
    "c = CNT()\n",
    "\n",
    "def input():\n",
    "    f = open(\"input.txt\", \"r\")\n",
    "    data = f.read().split(\"\\n\")\n",
    "    f.close()\n",
    "    cnt = c()\n",
    "    if(cnt > len(data)):\n",
    "        print(\"これ以上の入力がありません．\")\n",
    "    else:\n",
    "        ret = data[cnt-1]\n",
    "        return ret"
   ]
  },
  {
   "cell_type": "code",
   "execution_count": null,
   "metadata": {},
   "outputs": [],
   "source": [
    "c=CNT()\n",
    "#2\n",
    "\n"
   ]
  },
  {
   "cell_type": "markdown",
   "metadata": {},
   "source": [
    "★3"
   ]
  },
  {
   "cell_type": "code",
   "execution_count": 82,
   "metadata": {},
   "outputs": [
    {
     "name": "stdout",
     "output_type": "stream",
     "text": [
      "3\n",
      "{2: [1], 3: [1, 2], 5: [2], 4: [2]}\n"
     ]
    }
   ],
   "source": [
    "c=CNT()\n",
    "#78\n",
    "\n",
    "N, M = map(int, input().split())\n",
    "dic = dict()\n",
    "ans = 0\n",
    "for _ in range(M):\n",
    "    a, b = map(int, input().split())\n",
    "    if a not in dic.keys():\n",
    "        if a > b:\n",
    "            dic[a] = [b]\n",
    "    else:\n",
    "        if a > b:\n",
    "            dic[a].append(b)\n",
    "    if b not in dic.keys():\n",
    "        if b > a:\n",
    "            dic[b] = [a]\n",
    "    else:\n",
    "        if b > a:\n",
    "            dic[b].append(a)\n",
    "\n",
    "for d in dic.values():\n",
    "    if len(d) == 1:\n",
    "        ans += 1\n",
    "print(ans)\n",
    "print(dic)"
   ]
  },
  {
   "cell_type": "code",
   "execution_count": 66,
   "metadata": {},
   "outputs": [
    {
     "name": "stdout",
     "output_type": "stream",
     "text": [
      "0\n"
     ]
    }
   ],
   "source": [
    "c=CNT()\n",
    "#67\n",
    "\n",
    "N, K = map(int, input().split())\n",
    "ans = str(N)\n",
    "\n",
    "def chgBase(args, N, M):\n",
    "    if args == '0':\n",
    "        return 0\n",
    "    # n進数 -> 10進数\n",
    "    num10 = int(args,N)\n",
    "\n",
    "    # 10進数 -> n進数\n",
    "    numM = ''\n",
    "    while num10:\n",
    "        if num10%M>=10:\n",
    "            return -1\n",
    "        numM += str(num10%M)\n",
    "        num10 //= M\n",
    "    return int(numM[::-1])\n",
    "\n",
    "for _ in range(K):\n",
    "    ans = str(chgBase(ans, 8, 9))\n",
    "    ans = ans.replace('8', '5')\n",
    "\n",
    "print(ans)"
   ]
  },
  {
   "cell_type": "code",
   "execution_count": 31,
   "metadata": {},
   "outputs": [
    {
     "name": "stdout",
     "output_type": "stream",
     "text": [
      "1000000000\n"
     ]
    }
   ],
   "source": [
    "c=CNT()\n",
    "#61\n",
    "\n",
    "from collections import deque\n",
    "Q = int(input())\n",
    "query = [list(map(int, input().split())) for _ in range(Q)]\n",
    "dq = deque()\n",
    "\n",
    "for t, x in query:\n",
    "    if t == 1:\n",
    "        dq.appendleft(x)\n",
    "    elif t == 2:\n",
    "        dq.append(x)\n",
    "    else:\n",
    "        print(dq[x-1])\n"
   ]
  },
  {
   "cell_type": "code",
   "execution_count": 37,
   "metadata": {},
   "outputs": [
    {
     "name": "stdout",
     "output_type": "stream",
     "text": [
      "252\n"
     ]
    }
   ],
   "source": [
    "c=CNT()\n",
    "#55\n",
    "\n",
    "import itertools\n",
    "N, P, Q = map(int, input().split())\n",
    "A = list(map(int, input().split()))\n",
    "ans = 0\n",
    "\n",
    "for c in itertools.combinations(A, 5):\n",
    "    if c[0]%P * c[1]%P * c[2]%P * c[3]%P * c[4]%P == Q:\n",
    "        ans += 1\n",
    "\n",
    "print(ans)"
   ]
  },
  {
   "cell_type": "code",
   "execution_count": 15,
   "metadata": {},
   "outputs": [
    {
     "name": "stdout",
     "output_type": "stream",
     "text": [
      "65\n"
     ]
    }
   ],
   "source": [
    "c=CNT()\n",
    "#33\n",
    "\n",
    "import math\n",
    "H, W = map(int, input().split())\n",
    "if H == 1:\n",
    "    print(W)\n",
    "elif W == 1:\n",
    "    print(H)\n",
    "else:\n",
    "    print(math.ceil(H/2) * math.ceil(W/2))"
   ]
  },
  {
   "cell_type": "code",
   "execution_count": null,
   "metadata": {},
   "outputs": [
    {
     "name": "stdout",
     "output_type": "stream",
     "text": [
      "1\n"
     ]
    }
   ],
   "source": [
    "c=CNT()\n",
    "#27\n",
    "\n",
    "N = int(input())\n",
    "S = [input() for _ in range(N)]\n",
    "un = dict()\n",
    "\n",
    "for i in range(N):\n",
    "    if S[i] not in un.keys():\n",
    "        un[S[i]] = 1\n",
    "        print(i+1)"
   ]
  },
  {
   "cell_type": "code",
   "execution_count": null,
   "metadata": {},
   "outputs": [
    {
     "name": "stdout",
     "output_type": "stream",
     "text": [
      "Yes\n"
     ]
    }
   ],
   "source": [
    "c=CNT()\n",
    "#24\n",
    "N, K = map(int, input().split())\n",
    "A = list(map(int, input().split()))\n",
    "B = list(map(int, input().split()))\n",
    "sumA, sumB = sum(A), sum(B)\n",
    "\n",
    "\n",
    "if sumA-K <= sumB and sumB <= sumA+K:\n",
    "    if K%2 == 1 and sumA != sumB:\n",
    "        print(\"Yes\")\n",
    "    else:\n",
    "        print(\"No\")\n",
    "else:\n",
    "    print(\"No\")"
   ]
  },
  {
   "cell_type": "code",
   "execution_count": null,
   "metadata": {},
   "outputs": [
    {
     "name": "stdout",
     "output_type": "stream",
     "text": [
      "2999999999999999994\n"
     ]
    }
   ],
   "source": [
    "c=CNT()\n",
    "#22\n",
    "\n",
    "import math\n",
    "A, B, C = map(int, input().split())\n",
    "gcd = math.gcd(math.gcd(A, B), C)\n",
    "ans = 0\n",
    "\n",
    "ans = A//gcd + B//gcd + C//gcd -3\n",
    "\n",
    "print(ans)"
   ]
  },
  {
   "cell_type": "code",
   "execution_count": null,
   "metadata": {},
   "outputs": [
    {
     "name": "stdout",
     "output_type": "stream",
     "text": [
      "[0, 0, 67, 67, 67, 67, 67, 67, 99, 99, 118, 118, 132, 183, 183, 187, 242, 242, 331, 366, 366] [0, 90, 90, 99, 116, 201, 244, 255, 255, 271, 271, 336, 336, 336, 430, 430, 430, 520, 520, 520, 601]\n",
      "175 430\n",
      "0 85\n",
      "0 65\n",
      "51 16\n",
      "116 246\n",
      "67 154\n",
      "0 165\n",
      "0 111\n",
      "213 184\n",
      "32 156\n",
      "175 340\n",
      "32 54\n",
      "299 511\n",
      "132 336\n",
      "67 244\n",
      "175 314\n",
      "51 181\n",
      "124 90\n",
      "0 17\n",
      "120 186\n"
     ]
    }
   ],
   "source": [
    "c=CNT()\n",
    "#10\n",
    "\n",
    "N = int(input())\n",
    "C1, C2 = list(), list()\n",
    "for i in range(N):\n",
    "    C, P = map(int, input().split())\n",
    "    if C == 1:\n",
    "        C1.append(P)\n",
    "        C2.append(0)\n",
    "    else:\n",
    "        C1.append(0)\n",
    "        C2.append(P)\n",
    "Q = int(input())\n",
    "LR = [list(map(int, input().split())) for _ in range(Q)]\n",
    "\n",
    "CS1, CS2 = list(), list()\n",
    "CS1.append(0)\n",
    "CS2.append(0)\n",
    "for i in range(N):\n",
    "    CS1.append(CS1[i]+C1[i])\n",
    "    CS2.append(CS2[i]+C2[i])\n",
    "\n",
    "for lr in LR:\n",
    "    L, R = lr[0]-1, lr[1]\n",
    "    print(CS1[R]-CS1[L], CS2[R]-CS2[L])"
   ]
  },
  {
   "cell_type": "code",
   "execution_count": null,
   "metadata": {},
   "outputs": [
    {
     "name": "stdout",
     "output_type": "stream",
     "text": [
      "627 629 598 648 592 660 567 653 606 662\n",
      "623 633 651 618 645 650 689 685 615 676\n"
     ]
    }
   ],
   "source": [
    "c=CNT()\n",
    "#4\n",
    "\n",
    "H, W = map(int, input().split())\n",
    "A = [list(map(int, input().split())) for _ in range(H)]\n",
    "At = list(zip(*A))\n",
    "B = [[0 for _ in range(W)] for _ in range(H)]\n",
    "rsum, csum = list(), list()\n",
    "\n",
    "for i in range(H):\n",
    "    rsum.append(sum(A[i]))\n",
    "for i in range(W):\n",
    "    csum.append(sum(At[i]))\n",
    "\n",
    "for i in range(H):\n",
    "    for j in range(W):\n",
    "        B[i][j] = rsum[i]+csum[j] - A[i][j]\n",
    "\n",
    "for i in range(H):\n",
    "    print(*B[i])"
   ]
  },
  {
   "cell_type": "markdown",
   "metadata": {},
   "source": [
    "★2"
   ]
  }
 ],
 "metadata": {
  "interpreter": {
   "hash": "31f2aee4e71d21fbe5cf8b01ff0e069b9275f58929596ceb00d14d90e3e16cd6"
  },
  "kernelspec": {
   "display_name": "Python 3.8.9 64-bit",
   "language": "python",
   "name": "python3"
  },
  "language_info": {
   "codemirror_mode": {
    "name": "ipython",
    "version": 3
   },
   "file_extension": ".py",
   "mimetype": "text/x-python",
   "name": "python",
   "nbconvert_exporter": "python",
   "pygments_lexer": "ipython3",
   "version": "3.8.9"
  },
  "orig_nbformat": 4
 },
 "nbformat": 4,
 "nbformat_minor": 2
}
