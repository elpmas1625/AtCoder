{
 "cells": [
  {
   "cell_type": "code",
   "execution_count": 1,
   "metadata": {},
   "outputs": [],
   "source": [
    "class CNT:\n",
    "    def __init__(self):\n",
    "        self.x = 0\n",
    "    def __call__(self):\n",
    "        self.x += 1\n",
    "        return self.x        \n",
    "\n",
    "c = CNT()\n",
    "\n",
    "def input():\n",
    "    f = open(\"input.txt\", \"r\")\n",
    "    data = f.read().split(\"\\n\")\n",
    "    f.close()\n",
    "    cnt = c()\n",
    "    if(cnt > len(data)):\n",
    "        print(\"これ以上の入力がありません．\")\n",
    "    else:\n",
    "        ret = data[cnt-1]\n",
    "        return ret"
   ]
  },
  {
   "cell_type": "code",
   "execution_count": 7,
   "metadata": {},
   "outputs": [
    {
     "name": "stdout",
     "output_type": "stream",
     "text": [
      "Yes\n",
      "No\n"
     ]
    }
   ],
   "source": [
    "c=CNT()\n",
    "#259c\n",
    "\n",
    "S, T = input(), input()\n",
    "\n",
    "if len(T) < len(S):\n",
    "    print('No')\n",
    "else:\n",
    "    qS, qT = S[0], T[0]\n",
    "    cnt = 1\n",
    "    for i in range(1, len(S)):\n",
    "        if S[i] != S[i-1]:\n",
    "            qS += str(cnt) + S[i]\n",
    "            cnt = 1\n",
    "        else:\n",
    "            cnt += 1\n",
    "    qS += str(cnt)\n",
    "\n",
    "    cnt = 1\n",
    "    for i in range(1, len(T)):\n",
    "        if T[i] != T[i-1]:\n",
    "            qT += str(cnt) + T[i]\n",
    "            cnt = 1\n",
    "        else:\n",
    "            cnt += 1\n",
    "    qT += str(cnt)\n",
    "    \n",
    "    # for i in range(0, len(qS), 2):\n",
    "    #     if qS[i] != qT[i]:\n",
    "    #         break\n",
    "    #     else:\n",
    "    #         if qS[i+1] != qT[i+1]:\n",
    "    #             if int(qS[i+1]) < 2 or qS[i+1] > qT[i+1]:\n",
    "    #                 break\n",
    "    #     if i == len(qS)-2:\n",
    "    #         print('Yes')\n",
    "    #         # exit()\n",
    "\n",
    "    print(\"No\")\n"
   ]
  },
  {
   "cell_type": "code",
   "execution_count": 18,
   "metadata": {},
   "outputs": [
    {
     "name": "stdout",
     "output_type": "stream",
     "text": [
      "-2.499999999999999 4.330127018922194\n"
     ]
    }
   ],
   "source": [
    "c=CNT()\n",
    "#259b\n",
    "\n",
    "import math\n",
    "\n",
    "a, b, d = map(int, input().split())\n",
    "\n",
    "sin = math.sin(math.radians(d))\n",
    "cos = math.cos(math.radians(d))\n",
    "\n",
    "print((cos*a)-(sin*b), sin*a + cos*b)"
   ]
  },
  {
   "cell_type": "code",
   "execution_count": 11,
   "metadata": {},
   "outputs": [
    {
     "name": "stdout",
     "output_type": "stream",
     "text": [
      "1\n"
     ]
    }
   ],
   "source": [
    "c=CNT()\n",
    "#259a\n",
    "\n",
    "N, M, X, T, D = map(int, input().split())\n",
    "\n",
    "if M > X:\n",
    "    print(T)\n",
    "else:\n",
    "    syoki = T - (X*D)\n",
    "    print(syoki + M*D)\n"
   ]
  },
  {
   "cell_type": "code",
   "execution_count": 54,
   "metadata": {},
   "outputs": [
    {
     "name": "stdout",
     "output_type": "stream",
     "text": [
      "c\n",
      "u\n",
      "c\n",
      "u\n"
     ]
    }
   ],
   "source": [
    "c=CNT()\n",
    "#258c\n",
    "\n",
    "N, Q = map(int, input().split())\n",
    "S = input()\n",
    "query = list()\n",
    "for _ in range(Q):\n",
    "    query.append(list(map(int, input().split())))\n",
    "\n",
    "diff, idx = 0, 0\n",
    "for i, q in enumerate(query):\n",
    "    t, x = q\n",
    "\n",
    "    if t == 2:\n",
    "        idx = (x - diff) % N\n",
    "        print(S[idx-1])\n",
    "    else:\n",
    "        diff += x\n"
   ]
  },
  {
   "cell_type": "code",
   "execution_count": 13,
   "metadata": {},
   "outputs": [
    {
     "name": "stdout",
     "output_type": "stream",
     "text": [
      "[[1, 1, 6, 1], [1, 1, 1, 9], [7, 1, 1, 1], [1, 8, 1, 1]] 0\n"
     ]
    }
   ],
   "source": [
    "c=CNT()\n",
    "#258b\n",
    "\n",
    "N = int(input())\n",
    "A = list()\n",
    "for _ in range(N):\n",
    "    ip = list(input())\n",
    "    ip = [int(i) for i in ip]\n",
    "    A.append(ip)\n",
    "\n",
    "\n",
    "\n",
    "\n",
    "print(A, mx)"
   ]
  },
  {
   "cell_type": "code",
   "execution_count": 6,
   "metadata": {},
   "outputs": [
    {
     "name": "stdout",
     "output_type": "stream",
     "text": [
      "22:40\n"
     ]
    }
   ],
   "source": [
    "c=CNT()\n",
    "#258a\n",
    "\n",
    "K = int(input())\n",
    "\n",
    "h = str(21 + K//60)\n",
    "m = K%60\n",
    "if m < 10:\n",
    "    m = '0'+str(m)\n",
    "else:\n",
    "    m = str(m)\n",
    "print(h+':'+m)\n"
   ]
  },
  {
   "cell_type": "code",
   "execution_count": 59,
   "metadata": {},
   "outputs": [
    {
     "name": "stdout",
     "output_type": "stream",
     "text": [
      "[[50, -1], [50, 0], [50, 0], [60, -1], [60, -1]]\n",
      "4\n"
     ]
    }
   ],
   "source": [
    "c=CNT()\n",
    "#257c\n",
    "\n",
    "N = int(input())\n",
    "S = input()\n",
    "W = list()\n",
    "for i, ip in enumerate(list(map(int, input().split()))):\n",
    "    W.append([ip, -int(S[i])])\n",
    "W.sort()\n",
    "\n",
    "print(W)\n",
    "if '1' in S and '0' in S:\n",
    "    ans = 0\n",
    "    for i in S:\n",
    "        if i == '1':\n",
    "            ans += 1\n",
    "    mx = ans\n",
    "    for i, w in enumerate(W):\n",
    "        if w[1] == 0:\n",
    "            ans += 1\n",
    "        else:\n",
    "            ans -= 1\n",
    "        mx = max(mx, ans)\n",
    "    print(mx)\n",
    "else:\n",
    "    print(N)"
   ]
  },
  {
   "cell_type": "code",
   "execution_count": 28,
   "metadata": {},
   "outputs": [
    {
     "name": "stdout",
     "output_type": "stream",
     "text": [
      "2 5 6 7 9 10\n"
     ]
    }
   ],
   "source": [
    "c=CNT()\n",
    "#257b\n",
    "\n",
    "N, K, Q = map(int, input().split())\n",
    "A = list(map(int, input().split()))\n",
    "L = list(map(int, input().split()))\n",
    "\n",
    "masu = [False for _ in range(N)]\n",
    "for i in A:\n",
    "    masu[i-1] = True\n",
    "\n",
    "for l in L:\n",
    "    cnt = 0\n",
    "    for i, m in enumerate(masu):\n",
    "        if m:\n",
    "            cnt += 1\n",
    "            if cnt == l:\n",
    "                if i == N-1:\n",
    "                    pass\n",
    "                elif not masu[i+1]:\n",
    "                    masu[i], masu[i+1] = False, True\n",
    "\n",
    "ans = ''\n",
    "for i in range(N):\n",
    "    if masu[i]:\n",
    "        ans += str(i+1)+' '\n",
    "\n",
    "print(ans[:-1])"
   ]
  },
  {
   "cell_type": "code",
   "execution_count": 20,
   "metadata": {},
   "outputs": [
    {
     "name": "stdout",
     "output_type": "stream",
     "text": [
      "B\n"
     ]
    }
   ],
   "source": [
    "c=CNT()\n",
    "#257a\n",
    "N, X = map(int, input().split())\n",
    "alp = 'ABCDEFGHIJKLMNOPQRSTUVWXYZ'\n",
    "\n",
    "if X%N == 0:\n",
    "    print(alp[X//N-1])\n",
    "else:\n",
    "    print(alp[X//N])"
   ]
  },
  {
   "cell_type": "code",
   "execution_count": 27,
   "metadata": {},
   "outputs": [
    {
     "name": "stdout",
     "output_type": "stream",
     "text": [
      "[8, 5, 2, -1]\n",
      "-1 3\n",
      "[-1, 2, 5, 8]\n"
     ]
    }
   ],
   "source": [
    "c=CNT()\n",
    "#255c\n",
    "\n",
    "X, A, D, N = map(int, input().split())\n",
    "\n",
    "print([A+(D*i) for i in range(N)])\n",
    "\n",
    "if D < 0:\n",
    "    A = A+D*(N-1)\n",
    "    D *= -1\n",
    "print(A, D)\n",
    "\n",
    "print([A+(D*i) for i in range(N)])\n"
   ]
  },
  {
   "cell_type": "code",
   "execution_count": 88,
   "metadata": {},
   "outputs": [
    {
     "name": "stdout",
     "output_type": "stream",
     "text": [
      "282842.71247461904\n"
     ]
    }
   ],
   "source": [
    "c=CNT()\n",
    "#255b\n",
    "\n",
    "import math\n",
    "N, K = map(int, input().split())\n",
    "A = list(map(int, input().split()))\n",
    "B = list()\n",
    "j = 0\n",
    "for i in range(1, N+1):\n",
    "    if i != A[j]:\n",
    "        B.append(i)\n",
    "    else:\n",
    "        if j != K-1:\n",
    "            j += 1\n",
    "\n",
    "xy = [list(map(int, input().split())) for _ in range(N)]\n",
    "\n",
    "def dist(x1, y1, x2, y2):\n",
    "    return math.sqrt((x1-x2)**2+(y1-y2)**2)\n",
    "\n",
    "ans = list()\n",
    "for i, b in enumerate(B):\n",
    "    x1, y1 = xy[b-1][0], xy[b-1][1]\n",
    "    tmp = list()\n",
    "    for j, a in enumerate(A):\n",
    "        x2, y2 = xy[a-1][0], xy[a-1][1]\n",
    "        tmp.append(dist(x1, y1, x2, y2))\n",
    "    ans.append(min(tmp))\n",
    "\n",
    "print(max(ans))\n"
   ]
  },
  {
   "cell_type": "code",
   "execution_count": 5,
   "metadata": {},
   "outputs": [
    {
     "name": "stdout",
     "output_type": "stream",
     "text": [
      "70\n"
     ]
    }
   ],
   "source": [
    "c=CNT()\n",
    "#255a\n",
    "\n",
    "R, C = map(int, input().split())\n",
    "A = list()\n",
    "for _ in range(2):\n",
    "    A.append(list(map(int, input().split())))\n",
    "\n",
    "print(A[R-1][C-1])\n",
    "\n"
   ]
  },
  {
   "cell_type": "code",
   "execution_count": 112,
   "metadata": {},
   "outputs": [
    {
     "name": "stdout",
     "output_type": "stream",
     "text": [
      "No\n"
     ]
    }
   ],
   "source": [
    "c=CNT()\n",
    "#254c\n",
    "\n",
    "N, K = map(int, input().split())\n",
    "A = list(map(int, input().split()))\n",
    "B = [list() for _ in range(K)]\n",
    "for i in range(N):\n",
    "    B[i%K].append(A[i])\n",
    "\n",
    "B = [sorted(l) for l in B]\n",
    "As = sorted(A)\n",
    "ans = list()\n",
    "\n",
    "try:\n",
    "    for i in range(N//K+1):\n",
    "        for j in range(K):\n",
    "            ans.append(B[j][i])\n",
    "except IndexError:\n",
    "    pass\n",
    "\n",
    "print(\"Yes\") if ans == As else print(\"No\")"
   ]
  },
  {
   "cell_type": "code",
   "execution_count": 45,
   "metadata": {},
   "outputs": [
    {
     "name": "stdout",
     "output_type": "stream",
     "text": [
      "1\n",
      "1 1\n",
      "1 2 1\n"
     ]
    }
   ],
   "source": [
    "c=CNT()\n",
    "#254b\n",
    "\n",
    "N = int(input())\n",
    "A = [[1], [1, 1], [1, 2, 1]]\n",
    "\n",
    "for i in range(3, N):\n",
    "    tmp = list()\n",
    "    for j in range(i+1):\n",
    "        if j == 0 or j == i:\n",
    "            tmp.append(1)\n",
    "        else:\n",
    "            tmp.append(A[i-1][j-1]+A[i-1][j])\n",
    "    A.append(tmp)\n",
    "\n",
    "for a in A[:N]:\n",
    "    print(*a)"
   ]
  },
  {
   "cell_type": "code",
   "execution_count": 3,
   "metadata": {},
   "outputs": [
    {
     "name": "stdout",
     "output_type": "stream",
     "text": [
      "54\n"
     ]
    }
   ],
   "source": [
    "c=CNT()\n",
    "#254a\n",
    "\n",
    "N = input()\n",
    "\n",
    "print(N[-2]+N[-1])"
   ]
  },
  {
   "cell_type": "code",
   "execution_count": 81,
   "metadata": {},
   "outputs": [
    {
     "name": "stdout",
     "output_type": "stream",
     "text": [
      "8\n"
     ]
    }
   ],
   "source": [
    "c=CNT()\n",
    "#251c\n",
    "\n",
    "N = int(input())\n",
    "l = set()\n",
    "ans, mx = 0, 0\n",
    "\n",
    "for i in range(N):\n",
    "    s, t = input().split()\n",
    "    if s not in l :\n",
    "        l.add(s)\n",
    "        if int(t) > mx:\n",
    "            mx = int(t)\n",
    "            ans = i+1\n",
    "print(ans)"
   ]
  },
  {
   "cell_type": "code",
   "execution_count": 48,
   "metadata": {},
   "outputs": [
    {
     "name": "stdout",
     "output_type": "stream",
     "text": [
      "0\n"
     ]
    }
   ],
   "source": [
    "c=CNT()\n",
    "#251b\n",
    "\n",
    "import itertools\n",
    "N, W = map(int, input().split())\n",
    "A = list(map(int, input().split()))\n",
    "ans = set()\n",
    "\n",
    "for n in range(1, 4):\n",
    "    c = itertools.combinations(A, n)\n",
    "    for cc in c:\n",
    "        num = sum(cc)\n",
    "        if num <= W:\n",
    "            ans.add(num)\n",
    "\n",
    "print(len(ans))"
   ]
  },
  {
   "cell_type": "code",
   "execution_count": 12,
   "metadata": {},
   "outputs": [
    {
     "name": "stdout",
     "output_type": "stream",
     "text": [
      "abcabc\n"
     ]
    }
   ],
   "source": [
    "C=CNT()\n",
    "#251a\n",
    "\n",
    "S = input()\n",
    "ans = S*6\n",
    "print(ans[:6])"
   ]
  },
  {
   "cell_type": "code",
   "execution_count": 8,
   "metadata": {},
   "outputs": [
    {
     "name": "stdout",
     "output_type": "stream",
     "text": [
      "[6, 2, 3]\n"
     ]
    }
   ],
   "source": [
    "c=CNT()\n",
    "#249d\n",
    "\n",
    "N = int(input())\n",
    "A = list(map(int, input().split()))\n",
    "\n"
   ]
  },
  {
   "cell_type": "code",
   "execution_count": 7,
   "metadata": {},
   "outputs": [
    {
     "name": "stdout",
     "output_type": "stream",
     "text": [
      "7\n"
     ]
    }
   ],
   "source": [
    "c=CNT()\n",
    "#249c\n",
    "\n",
    "N, K = map(int, input().split())\n",
    "S =list()\n",
    "for _ in range(N):\n",
    "    S.append(input())\n",
    "flag = [format(i, '0'+str(N)+'b') for i in range(1, 2**N)]\n",
    "ans = 0\n",
    "\n",
    "def slv(args):\n",
    "    dic = dict()\n",
    "    ret = 0\n",
    "    for s in args:\n",
    "        if s in dic.keys():\n",
    "            dic[s] += 1\n",
    "        else:\n",
    "            dic[s] = 1\n",
    "    for v in dic.values():\n",
    "        if v == K:\n",
    "            ret += 1\n",
    "    return ret\n",
    "\n",
    "for f in flag:\n",
    "    tmps = ''\n",
    "    for i in range(N):\n",
    "        if f[i] == str(1):\n",
    "            tmps += S[i]\n",
    "    ans = max(slv(tmps),ans)\n",
    "\n",
    "print(ans)"
   ]
  },
  {
   "cell_type": "code",
   "execution_count": 2,
   "metadata": {},
   "outputs": [
    {
     "name": "stdout",
     "output_type": "stream",
     "text": [
      "No\n",
      "Yes\n"
     ]
    }
   ],
   "source": [
    "c=CNT()\n",
    "#249b\n",
    "\n",
    "S = input()\n",
    "dic = dict()\n",
    "\n",
    "if S.islower() or S.isupper():\n",
    "    print(\"No\")\n",
    "    exit()\n",
    "\n",
    "\n",
    "S = list(S)\n",
    "for s in S:\n",
    "    if s in dic.keys():\n",
    "        print(\"No\")\n",
    "        exit()\n",
    "    else:\n",
    "        dic[s] = 1\n",
    "\n",
    "print(\"Yes\")"
   ]
  },
  {
   "cell_type": "code",
   "execution_count": 32,
   "metadata": {},
   "outputs": [
    {
     "name": "stdout",
     "output_type": "stream",
     "text": [
      "Draw\n"
     ]
    }
   ],
   "source": [
    "c=CNT()\n",
    "#249a\n",
    "\n",
    "A, B, C, D, E, F, X = map(int, input().split())\n",
    "ans1, ans2 = 0, 0\n",
    "\n",
    "t = X\n",
    "while A < t:\n",
    "    ans1 += A\n",
    "    t -= A + C\n",
    "if t < 0:\n",
    "    t = 0\n",
    "ans1 += t\n",
    "\n",
    "t = X\n",
    "while D < t:\n",
    "    ans2 += D\n",
    "    t -= D + F\n",
    "if t < 0:\n",
    "    t = 0\n",
    "ans2 += t\n",
    "\n",
    "if ans1*B == ans2*E:\n",
    "    print(\"Draw\")\n",
    "elif ans1*B > ans2*E:\n",
    "    print(\"Takahashi\")\n",
    "else:\n",
    "    print(\"Aoki\")"
   ]
  },
  {
   "cell_type": "code",
   "execution_count": 59,
   "metadata": {},
   "outputs": [
    {
     "name": "stdout",
     "output_type": "stream",
     "text": [
      "{1: 4, 2: 3, 3: 2, 4: 7, 5: 5, 6: 6, 7: 1}\n",
      "{1: [0, 2, 3, 4, 5, 6, 7], 2: [1, 0, 3, 4, 5, 6, 7], 3: [1, 2, 0, 4, 5, 6, 7], 4: [1, 2, 3, 0, 5, 6, 7], 5: [1, 2, 3, 4, 0, 6, 7], 6: [1, 2, 3, 4, 5, 0, 7], 7: [1, 2, 3, 4, 5, 6, 0]}\n",
      "{1: [0, 0, 0, 4, 5, 6, 7], 2: [0, 0, 3, 0, 0, 6, 7], 3: [0, 2, 0, 4, 0, 0, 7], 4: [1, 0, 3, 0, 5, 6, 7], 5: [1, 0, 0, 4, 0, 6, 0], 6: [1, 2, 0, 4, 5, 0, 0], 7: [1, 2, 3, 4, 0, 0, 0]}\n"
     ]
    }
   ],
   "source": [
    "c=CNT()\n",
    "#A061\n",
    "\n",
    "N ,M = map(int, input().split())\n",
    "P = list(map(int, input().split()))\n",
    "RNK = dict()\n",
    "for i in range(1, N+1):\n",
    "    RNK[i] = P[i-1]\n",
    "REL = dict()\n",
    "print(RNK)\n",
    "\n",
    "for i in range(1, N+1):\n",
    "    REL[i] = [j for j in range(1, N+1)]\n",
    "    REL[i][i-1] = 0 \n",
    "print(REL)\n",
    "\n",
    "for i in range(M):\n",
    "    u, v = map(int, input().split())\n",
    "    REL[u][v-1] = 0\n",
    "    REL[v][u-1] = 0\n",
    "print(REL)\n",
    "\n"
   ]
  },
  {
   "cell_type": "code",
   "execution_count": 39,
   "metadata": {},
   "outputs": [
    {
     "name": "stdout",
     "output_type": "stream",
     "text": [
      "1 2 1 3 1 2 1 4 1 2 1 3 1 2 1\n"
     ]
    }
   ],
   "source": [
    "c=CNT()\n",
    "#247c\n",
    "\n",
    "N = int(input())-1\n",
    "ans = list()\n",
    "\n",
    "ans.append(str(1))\n",
    "for i in range(1, N+1):\n",
    "    ans.append(ans[i-1]+\" \"+str(i+1)+' '+ans[i-1])\n",
    "\n",
    "print(ans[-1])"
   ]
  },
  {
   "cell_type": "code",
   "execution_count": 81,
   "metadata": {},
   "outputs": [
    {
     "name": "stdout",
     "output_type": "stream",
     "text": [
      "Yes\n"
     ]
    }
   ],
   "source": [
    "c=CNT()\n",
    "#247b\n",
    "\n",
    "N = int(input())\n",
    "xy = [map(str, input().split()) for _ in range(N)]\n",
    "S, T = [list(i) for i in zip(*xy)]\n",
    "\n",
    "for i in range(N):\n",
    "    if (S[i] in S[i+1:] or S[i] in T[i+1:]) and ((T[i] in S[i+1:] or T[i] in T[i+1:])):\n",
    "        print(\"No\")\n",
    "        exit()\n",
    "\n",
    "print(\"Yes\")"
   ]
  },
  {
   "cell_type": "code",
   "execution_count": 4,
   "metadata": {},
   "outputs": [
    {
     "name": "stdout",
     "output_type": "stream",
     "text": [
      "0111\n"
     ]
    }
   ],
   "source": [
    "c=CNT()\n",
    "#247a\n",
    "\n",
    "S = input()\n",
    "\n",
    "print(\"0\"+S[:3])"
   ]
  },
  {
   "cell_type": "code",
   "execution_count": null,
   "metadata": {},
   "outputs": [],
   "source": [
    "c=CNT()\n",
    "#246c\n",
    "\n",
    "N, K, X = map(int, input().split())\n",
    "A = list(map(int, input().split()))\n",
    "\n",
    "for i in range(N):\n",
    "    while A[i] > X:\n",
    "        if K == 0:\n",
    "            break\n",
    "        A[i] -= X\n",
    "        K -= 1\n",
    "\n",
    "if K > 0:\n",
    "    A.sort(reverse=True)\n",
    "    if N > K:\n",
    "        print(sum(A[K:]))\n",
    "    else:\n",
    "        print(0)\n",
    "else:\n",
    "    print(sum(A))"
   ]
  },
  {
   "cell_type": "code",
   "execution_count": 17,
   "metadata": {},
   "outputs": [
    {
     "name": "stdout",
     "output_type": "stream",
     "text": [
      "0.5219648702449755 0.8529669830832527\n"
     ]
    }
   ],
   "source": [
    "c=CNT()\n",
    "#246b\n",
    "\n",
    "A, B = map(int, input().split())\n",
    "\n",
    "R = pow(pow(A, 2) + pow(B, 2), 0.5)\n",
    "\n",
    "print(A/R, B/R)"
   ]
  },
  {
   "cell_type": "code",
   "execution_count": 13,
   "metadata": {},
   "outputs": [
    {
     "name": "stdout",
     "output_type": "stream",
     "text": [
      "-20 -40\n"
     ]
    }
   ],
   "source": [
    "c=CNT()\n",
    "#246a\n",
    "\n",
    "xy = [map(int, input().split()) for _ in range(3)]\n",
    "x, y = [list(i) for i in zip(*xy)]\n",
    "ans = ''\n",
    "\n",
    "if x[0] == x[1]:\n",
    "    ans += str(x[2])\n",
    "elif x[1] == x[2]:\n",
    "    ans += str(x[0])\n",
    "else:\n",
    "    ans += str(x[1])\n",
    "\n",
    "ans += str(' ')\n",
    "\n",
    "if y[0] == y[1]:\n",
    "    ans += str(y[2])\n",
    "elif y[1] == y[2]:\n",
    "    ans += str(y[0])\n",
    "else:\n",
    "    ans += str(y[1])\n",
    "\n",
    "print(ans)"
   ]
  },
  {
   "cell_type": "code",
   "execution_count": 40,
   "metadata": {},
   "outputs": [
    {
     "name": "stdout",
     "output_type": "stream",
     "text": [
      "[0, 2, 1] [0, 12, 14, 8, 2]\n"
     ]
    }
   ],
   "source": [
    "c=CNT()\n",
    "#245c\n",
    "\n",
    "N, M = map(int, input().split())\n",
    "A = list(map(int, input().split()))\n",
    "C = list(map(int, input().split()))\n",
    "B = [0 for _ in range(M+1)]\n",
    "slv = ''\n",
    "\n",
    "for "
   ]
  },
  {
   "cell_type": "code",
   "execution_count": 5,
   "metadata": {},
   "outputs": [
    {
     "name": "stdout",
     "output_type": "stream",
     "text": [
      "4\n"
     ]
    }
   ],
   "source": [
    "c=CNT()\n",
    "#245b\n",
    "\n",
    "N = int(input())\n",
    "A = list(map(int, input().split()))\n",
    "B = [0 for _ in range(2001)]\n",
    "\n",
    "for a in A:\n",
    "    B[a] = -1\n",
    "\n",
    "for i, b in enumerate(B):\n",
    "    if b == 0:\n",
    "        print(i)\n",
    "        break"
   ]
  },
  {
   "cell_type": "code",
   "execution_count": 3,
   "metadata": {},
   "outputs": [
    {
     "name": "stdout",
     "output_type": "stream",
     "text": [
      "[2000]\n",
      "0 2000\n",
      "0\n"
     ]
    }
   ],
   "source": [
    "c=CNT()\n",
    "#245b\n",
    "\n",
    "N = int(input())\n",
    "A = list(map(int, input().split()))\n",
    "\n",
    "for i in range(len(A)):\n",
    "    if i != A[i]:\n",
    "        print(i)\n",
    "        break"
   ]
  },
  {
   "cell_type": "code",
   "execution_count": 13,
   "metadata": {},
   "outputs": [
    {
     "name": "stdout",
     "output_type": "stream",
     "text": [
      "Takahashi\n"
     ]
    }
   ],
   "source": [
    "C=CNT()\n",
    "#245a\n",
    "\n",
    "A, B, C, D = map(int, input().split())\n",
    "\n",
    "a = A*60 + B\n",
    "b = C*60 + D\n",
    "\n",
    "if a > b :\n",
    "    print(\"Aoki\")\n",
    "else:\n",
    "    print(\"Takahashi\")"
   ]
  },
  {
   "cell_type": "code",
   "execution_count": 21,
   "metadata": {},
   "outputs": [
    {
     "name": "stdout",
     "output_type": "stream",
     "text": [
      "[1, 2, 3, 1] [2, 3, 4, 4]\n"
     ]
    }
   ],
   "source": [
    "c=CNT()\n",
    "#244e\n",
    "\n",
    "N, M, K, S, T, X = map(int, input().split())\n",
    "UV = [map(int, input().split()) for _ in range(M)]\n",
    "U, V = [list(i) for i in zip(*UV)]\n",
    "\n",
    "\n"
   ]
  },
  {
   "cell_type": "code",
   "execution_count": 20,
   "metadata": {},
   "outputs": [
    {
     "name": "stdout",
     "output_type": "stream",
     "text": [
      "No\n"
     ]
    }
   ],
   "source": [
    "c=CNT()\n",
    "#244d\n",
    "\n",
    "S = list(map(str, input().split()))\n",
    "T = list(map(str, input().split()))\n",
    "\n",
    "if T == [S[0], S[2], S[1]] or T == [S[1], S[0], S[2]] or T == [S[2], S[1], S[0]]:\n",
    "    print(\"No\")\n",
    "else:\n",
    "    print(\"Yes\")"
   ]
  },
  {
   "cell_type": "code",
   "execution_count": 14,
   "metadata": {},
   "outputs": [
    {
     "name": "stdout",
     "output_type": "stream",
     "text": [
      "1\n"
     ]
    },
    {
     "ename": "ValueError",
     "evalue": "invalid literal for int() with base 10: 'SSRS'",
     "output_type": "error",
     "traceback": [
      "\u001b[0;31m---------------------------------------------------------------------------\u001b[0m",
      "\u001b[0;31mValueError\u001b[0m                                Traceback (most recent call last)",
      "\u001b[0;32m/var/folders/rv/h3d3_y597hvbnkgdbrl03z040000gn/T/ipykernel_12560/1304379876.py\u001b[0m in \u001b[0;36m<module>\u001b[0;34m\u001b[0m\n\u001b[1;32m      7\u001b[0m \u001b[0;34m\u001b[0m\u001b[0m\n\u001b[1;32m      8\u001b[0m \u001b[0;32mwhile\u001b[0m \u001b[0;32mTrue\u001b[0m\u001b[0;34m:\u001b[0m\u001b[0;34m\u001b[0m\u001b[0;34m\u001b[0m\u001b[0m\n\u001b[0;32m----> 9\u001b[0;31m     \u001b[0mip\u001b[0m \u001b[0;34m=\u001b[0m \u001b[0mint\u001b[0m\u001b[0;34m(\u001b[0m\u001b[0minput\u001b[0m\u001b[0;34m(\u001b[0m\u001b[0;34m)\u001b[0m\u001b[0;34m)\u001b[0m\u001b[0;34m\u001b[0m\u001b[0;34m\u001b[0m\u001b[0m\n\u001b[0m\u001b[1;32m     10\u001b[0m     \u001b[0;32mif\u001b[0m  \u001b[0mip\u001b[0m \u001b[0;34m==\u001b[0m \u001b[0;36m0\u001b[0m\u001b[0;34m:\u001b[0m\u001b[0;34m\u001b[0m\u001b[0;34m\u001b[0m\u001b[0m\n\u001b[1;32m     11\u001b[0m         \u001b[0mexit\u001b[0m\u001b[0;34m(\u001b[0m\u001b[0;34m)\u001b[0m\u001b[0;34m\u001b[0m\u001b[0;34m\u001b[0m\u001b[0m\n",
      "\u001b[0;31mValueError\u001b[0m: invalid literal for int() with base 10: 'SSRS'"
     ]
    }
   ],
   "source": [
    "c=CNT()\n",
    "#244c\n",
    "\n",
    "\n",
    "N = int(input())\n",
    "tmp = [i for i in range(2, 2010)]\n",
    "print(1)\n",
    "\n",
    "while True:\n",
    "    ip = int(input())\n",
    "    if  ip == 0:\n",
    "        exit()\n",
    "    tmp.remove(ip)\n",
    "    print(tmp.pop(0))\n"
   ]
  },
  {
   "cell_type": "code",
   "execution_count": 11,
   "metadata": {},
   "outputs": [
    {
     "name": "stdout",
     "output_type": "stream",
     "text": [
      "2 -1\n"
     ]
    }
   ],
   "source": [
    "c=CNT()\n",
    "#244b\n",
    "\n",
    "N = int(input())\n",
    "T = input()\n",
    "\n",
    "now = [0 for _ in range(3)]\n",
    "\n",
    "def move():\n",
    "    if now[2]%4 == 0:\n",
    "        now[0] += 1\n",
    "    elif now[2]%4 == 1:\n",
    "        now[1] -= 1\n",
    "    elif now[2]%4 == 2:\n",
    "        now[0] -= 1\n",
    "    elif now[2]%4 == 3:\n",
    "        now[1] += 1\n",
    "\n",
    "for t in T:\n",
    "    if t == 'S':\n",
    "        move()\n",
    "    else:\n",
    "        now[2] += 1\n",
    "\n",
    "print(now[0], now[1])\n"
   ]
  },
  {
   "cell_type": "code",
   "execution_count": 6,
   "metadata": {},
   "outputs": [
    {
     "name": "stdout",
     "output_type": "stream",
     "text": [
      "a\n"
     ]
    }
   ],
   "source": [
    "c=CNT()\n",
    "#244a\n",
    "\n",
    "N = int(input())\n",
    "S = input()\n",
    "\n",
    "print(S[-1])"
   ]
  },
  {
   "cell_type": "code",
   "execution_count": 106,
   "metadata": {},
   "outputs": [
    {
     "name": "stdout",
     "output_type": "stream",
     "text": [
      "126419752371\n"
     ]
    }
   ],
   "source": [
    "c=CNT()\n",
    "#243d\n",
    "\n",
    "N, X = map(int, input().split())\n",
    "S = list(input())\n",
    "\n",
    "def move(x, s):\n",
    "    if s == 'U':\n",
    "        return x//2\n",
    "    elif s == 'R':\n",
    "        return (x*2)+1\n",
    "    elif s == 'L':\n",
    "        return x*2\n",
    "\n",
    "num = X\n",
    "for m in S:\n",
    "    num = move(num, m)\n",
    "print(num)\n"
   ]
  },
  {
   "cell_type": "code",
   "execution_count": 94,
   "metadata": {},
   "outputs": [
    {
     "name": "stdout",
     "output_type": "stream",
     "text": [
      "Yes\n"
     ]
    }
   ],
   "source": [
    "c=CNT()\n",
    "#243c\n",
    "\n",
    "N = int(input())\n",
    "XY = [map(int, input().split()) for _ in range(N)]\n",
    "X, Y = [list(i) for i in zip(*XY)]\n",
    "S = list(input())\n",
    "tmp = {}\n",
    "D = dict()\n",
    "ans = False\n",
    "\n",
    "for i in range(N):\n",
    "    tmp = dict()\n",
    "    tmp = {'x':X[i], 'y':Y[i], 's':S[i]}\n",
    "    if tmp['y'] not in D.keys():\n",
    "        D[tmp['y']] = {'R':[], 'L':[]}\n",
    "\n",
    "    if tmp['s'] == 'R':\n",
    "        D[tmp['y']]['R'].append(tmp['x'])\n",
    "    else:\n",
    "        D[tmp['y']]['L'].append(tmp['x'])\n",
    "\n",
    "for d in D.values():\n",
    "    d['R'].sort()\n",
    "    d['L'].sort()\n",
    "\n",
    "    if len(d['R']) > 0 and len(d['L']) > 0 and \\\n",
    "        min(d['R']) < max(d['L']): \n",
    "        ans = True\n",
    "        break\n",
    "    \n",
    "\n",
    "if ans:\n",
    "    print(\"Yes\")\n",
    "else:\n",
    "    print(\"No\")"
   ]
  },
  {
   "cell_type": "code",
   "execution_count": 27,
   "metadata": {},
   "outputs": [
    {
     "name": "stdout",
     "output_type": "stream",
     "text": [
      "1 1\n",
      "5 5\n",
      "6 6\n",
      "7 7\n",
      "8 8\n",
      "3 2\n"
     ]
    }
   ],
   "source": [
    "c=CNT()\n",
    "#243b\n",
    "\n",
    "N = int(input())\n",
    "A = list(map(int, input().split()))\n",
    "B = list(map(int, input().split()))\n",
    "ans1, ans2 = 0, 0\n",
    "\n",
    "for i in range(N):\n",
    "    if A[i] == B[i]:\n",
    "        ans1 += 1\n",
    "\n",
    "A.sort()\n",
    "B.sort()\n",
    "\n",
    "for a in A:\n",
    "    for b in B:\n",
    "        if a > b:\n",
    "            continue\n",
    "        elif a == b:\n",
    "            ans2 += 1\n",
    "        else:\n",
    "            break\n",
    "\n",
    "\n",
    "print(ans1, ans2-ans1)"
   ]
  },
  {
   "cell_type": "code",
   "execution_count": 15,
   "metadata": {},
   "outputs": [
    {
     "name": "stdout",
     "output_type": "stream",
     "text": [
      "M\n"
     ]
    }
   ],
   "source": [
    "c=CNT()\n",
    "#243a\n",
    "\n",
    "V, A, B, C = map(int, input().split())\n",
    "\n",
    "r = V\n",
    "\n",
    "while r >= 0:\n",
    "    if r-A < 0:\n",
    "        print('F')\n",
    "        break\n",
    "    else:\n",
    "        r -= A\n",
    "    \n",
    "    if r-B < 0:\n",
    "        print('M')\n",
    "        break\n",
    "    else:\n",
    "        r -= B\n",
    "    \n",
    "    if r-C < 0:\n",
    "        print('T')\n",
    "        break\n",
    "    else:\n",
    "        r -=C"
   ]
  },
  {
   "cell_type": "code",
   "execution_count": 11,
   "metadata": {},
   "outputs": [],
   "source": [
    "c=CNT()\n",
    "#242c\n",
    "\n",
    "N = int(input())\n",
    "\n",
    "DP = [[0]*9 for _ in range(N)]\n",
    "ans = 0\n",
    "\n",
    "for i in range(N):\n",
    "    for j in range(0,9):\n",
    "        if i == 0:\n",
    "            DP[i][j] = 1\n",
    "        else:\n",
    "            if j == 0:\n",
    "                DP[i][j] = (DP[i-1][j] + DP[i-1][j+1])/998244353\n",
    "            elif j == 8:\n",
    "                DP[i][j] = (DP[i-1][j] + DP[i-1][j-1])/998244353\n",
    "            else:\n",
    "                DP[i][j] = (DP[i-1][j] + DP[i-1][j+1] + DP[i-1][j-1])/998244353\n",
    "\n",
    "for d in DP[N-1]:\n",
    "    ans += d\n",
    "\n",
    "print(ans%998244353)"
   ]
  },
  {
   "cell_type": "code",
   "execution_count": 37,
   "metadata": {},
   "outputs": [
    {
     "name": "stdout",
     "output_type": "stream",
     "text": [
      "['a', 'a', 'b']\n"
     ]
    }
   ],
   "source": [
    "c=CNT()\n",
    "#242b\n",
    "\n",
    "print(\"\".join(sorted(input())))"
   ]
  },
  {
   "cell_type": "code",
   "execution_count": 11,
   "metadata": {},
   "outputs": [
    {
     "name": "stdout",
     "output_type": "stream",
     "text": [
      "0.0425531914893617\n"
     ]
    }
   ],
   "source": [
    "c=CNT()\n",
    "#242a\n",
    "\n",
    "A, B, C, X = map(int, input().split())\n",
    "\n",
    "if X <= A:\n",
    "    print(1)\n",
    "elif B >= X and X > A:\n",
    "    print(C /(B-A))\n",
    "else:\n",
    "    print(0)"
   ]
  },
  {
   "cell_type": "code",
   "execution_count": null,
   "metadata": {},
   "outputs": [],
   "source": [
    "c=CNT()\n",
    "#238d\n",
    "\n",
    "T = int(input())\n",
    "xy = [map(int, input().split()) for _ in range(T)]\n",
    "a, s = [list(i) for i in zip(*xy)]\n",
    "\n"
   ]
  },
  {
   "cell_type": "code",
   "execution_count": null,
   "metadata": {},
   "outputs": [],
   "source": [
    "c=CNT()\n",
    "#238c\n",
    "\n",
    "N = int(input())\n",
    "f = []\n",
    "\n",
    "for i = range(1, N):\n",
    "    f.append()"
   ]
  },
  {
   "cell_type": "code",
   "execution_count": null,
   "metadata": {},
   "outputs": [],
   "source": [
    "c=CNT()\n",
    "#238b\n",
    "\n",
    "N = int(input())\n",
    "A = list(map(int, input().split()))\n",
    "\n",
    "pizza = [0]*361\n",
    "\n",
    "no = 0\n",
    "pizza[0] = 1\n",
    "for a in A:\n",
    "    no += a\n",
    "    pizza[no%360] = 1\n",
    "\n",
    "cnt = 0\n",
    "res = 0\n",
    "sol = []\n",
    "\n",
    "for i in range(370):\n",
    "    if pizza[i%360] == 1:\n",
    "        sol.append(cnt)\n",
    "        cnt = 1\n",
    "    else:\n",
    "        cnt += 1\n",
    "\n",
    "print(max(sol))"
   ]
  },
  {
   "cell_type": "code",
   "execution_count": null,
   "metadata": {},
   "outputs": [],
   "source": [
    "c=CNT()\n",
    "#238a\n",
    "\n",
    "n = int(input())\n",
    "if 2**n > n**2: print(\"Yes\")\n",
    "else: print(\"No\")\n"
   ]
  },
  {
   "cell_type": "code",
   "execution_count": null,
   "metadata": {},
   "outputs": [],
   "source": [
    "c=CNT()\n",
    "#237c\n",
    "\n",
    "S = input()\n",
    "flag = False\n",
    "first = False\n",
    "f, l, last = 0, 0, 0\n",
    "sen = 'cb'\n",
    "\n",
    "def palindrome(data):\n",
    "    return True if data == data[::-1] else False\n",
    "\n",
    "if palindrome(S): flag = True\n",
    "\n",
    "for i in range(0, len(S)):\n",
    "    if S[i] != 'a' and first == False:\n",
    "        f = i\n",
    "        first = True\n",
    "    if S[i] != 'a':\n",
    "        l = len(S) - (i+1)\n",
    "        last = i+1\n",
    "\n",
    "\n",
    "sen = 'a'*min(f,l) + S + 'a'*min(f,l)\n",
    "print(sen)\n",
    "if palindrome(sen): flag = True\n",
    "\n",
    "if flag:\n",
    "    print('Yes')\n",
    "else:\n",
    "    print('No')\n",
    "\n"
   ]
  },
  {
   "cell_type": "code",
   "execution_count": null,
   "metadata": {},
   "outputs": [],
   "source": [
    "c=CNT()\n",
    "#237b\n",
    "\n",
    "H, W = map(int, input().split())\n",
    "A = [list(map(int, input().split())) for l in range(H)]\n",
    "\n",
    "for i in range(W):\n",
    "    tmp = []\n",
    "    for j in range(H):\n",
    "        tmp.append(str(A[j][i]))\n",
    "    print(' '.join(tmp))\n"
   ]
  },
  {
   "cell_type": "code",
   "execution_count": null,
   "metadata": {},
   "outputs": [],
   "source": [
    "c=CNT()\n",
    "#237a\n",
    "\n",
    "N = int(input())\n",
    "\n",
    "if -(2**31) <= N and N < 2**31:\n",
    "    print('Yes')\n",
    "else:\n",
    "    print('No')\n"
   ]
  },
  {
   "cell_type": "code",
   "execution_count": null,
   "metadata": {},
   "outputs": [],
   "source": [
    "c=CNT()\n",
    "#235d\n",
    "\n",
    "a, N = map(int, input().split())\n",
    "x, cnt = 1, 0\n",
    "\n",
    "def op1(x):\n",
    "    global cnt\n",
    "    cnt += 1\n",
    "    print(\"op1: \" + str(x) + \" -> \" + str(x*a))\n",
    "    return x*a\n",
    "\n",
    "def op2(x):\n",
    "    global cnt\n",
    "    cnt += 1\n",
    "    print(\"op2: \" + str(x) + \" -> \" + str(int(str(x)[2:] + str(x)[:-1])))\n",
    "    return int(str(x)[2:] + str(x)[:-1])\n",
    "\n",
    "while x < 10:\n",
    "    x = op1(x)\n",
    "\n",
    "\n",
    "\n",
    "print(x, cnt)"
   ]
  },
  {
   "cell_type": "code",
   "execution_count": null,
   "metadata": {},
   "outputs": [],
   "source": [
    "c=CNT()\n",
    "#235d\n",
    "\n",
    "a, N = map(int, input().split())\n",
    "x, cnt = N, 0\n",
    "\n",
    "def op1(x):\n",
    "    global cnt\n",
    "    cnt += 1\n",
    "    print(\"op1: \" + str(x) + \" -> \" + str(x/a))\n",
    "    return x/a\n",
    "\n",
    "def op2(x):\n",
    "    global cnt\n",
    "    cnt += 1\n",
    "    x = int(x)\n",
    "    print(\"op2: \" + str(x) + \" -> \" + str(int(str(x)[1:] + str(x)[:1])))\n",
    "    return int(str(x)[1:] + str(x)[:1])\n",
    "\n",
    "while x != 1:\n",
    "    if x < 10:\n",
    "        x = op1(x)\n",
    "    else:\n",
    "        if x % a == 0:\n",
    "            x = op1(x)\n",
    "        else:\n",
    "            x = op2(x)\n",
    "\n",
    "print(x, cnt)"
   ]
  },
  {
   "cell_type": "code",
   "execution_count": null,
   "metadata": {},
   "outputs": [],
   "source": [
    "c=CNT()\n",
    "#235c\n",
    "\n",
    "N, Q = map(int, input().split())\n",
    "A = list(map(int, input().split()))\n",
    "xy = [map(int, input().split()) for _ in range(Q)]\n",
    "X, K = [list(i) for i in zip(*xy)]\n",
    "\n",
    "d = {}\n",
    "\n",
    "for i in range(N):\n",
    "    d.setdefault(str(A[i]), []).append(i+1)\n",
    "\n",
    "for i in range(Q):\n",
    "    if str(X[i]) not in d.keys():\n",
    "        print(-1)\n",
    "    else:\n",
    "        if len(d[str(X[i])]) <= K[i]-1:\n",
    "            print(-1)\n",
    "        else:\n",
    "            print(d[str(X[i])][K[i]-1])"
   ]
  },
  {
   "cell_type": "code",
   "execution_count": null,
   "metadata": {},
   "outputs": [],
   "source": [
    "c=CNT()\n",
    "#235b\n",
    "\n",
    "N = int(input())\n",
    "H = list(map(int, input().split()))\n",
    "\n",
    "for i in range(N):\n",
    "    if i != N-1:\n",
    "        if H[i] < H[i+1]:\n",
    "            pass\n",
    "        else:\n",
    "            break\n",
    "\n",
    "print(H[i])"
   ]
  },
  {
   "cell_type": "code",
   "execution_count": null,
   "metadata": {},
   "outputs": [],
   "source": [
    "c=CNT()\n",
    "#235a\n",
    "\n",
    "abc = str(input())\n",
    "a = abc[:1]\n",
    "b = abc[1:2]\n",
    "c = abc[2:]\n",
    "\n",
    "print(int(abc) + int(b+c+a) + int(c+a+b))"
   ]
  },
  {
   "cell_type": "code",
   "execution_count": null,
   "metadata": {},
   "outputs": [],
   "source": [
    "c=CNT()\n",
    "#233d\n",
    "\n",
    "def cusum(data):\n",
    "    c = [0 for i in range(len(data)+1)]\n",
    "    for i in range(len(data)):\n",
    "        c[i+1] = c[i] + data[i]\n",
    "    return c\n",
    "\n",
    "N, K = map(int, input().split())\n",
    "A = list(map(int,input().split()))\n",
    "\n",
    "c = cusum(A)\n",
    "\n",
    "print(c)"
   ]
  },
  {
   "cell_type": "code",
   "execution_count": null,
   "metadata": {},
   "outputs": [],
   "source": [
    "c=CNT()\n",
    "#233c\n",
    "\n",
    "N,X=map(int,input().split())\n",
    "L = [list(map(int, input().split())) for l in range(N)]\n",
    "\n"
   ]
  },
  {
   "cell_type": "code",
   "execution_count": null,
   "metadata": {},
   "outputs": [],
   "source": [
    "c=CNT()\n",
    "#233b\n",
    "\n",
    "L,R=map(int,input().split())\n",
    "S = input()\n",
    "tmp = \"\"\n",
    "cnt = 0\n",
    "L -= 1\n",
    "R-=1\n",
    "for i in range(len(S)):\n",
    "    if i < L or i > R:\n",
    "        tmp += S[i]\n",
    "    else:\n",
    "        tmp += S[R-cnt]\n",
    "        cnt += 1\n",
    "\n",
    "print(tmp)"
   ]
  },
  {
   "cell_type": "code",
   "execution_count": null,
   "metadata": {},
   "outputs": [],
   "source": [
    "c=CNT()\n",
    "#233a\n",
    "\n",
    "X,Y = map(int,input().split())\n",
    "\n",
    "if X > Y:\n",
    "    print(\"0\")\n",
    "else:\n",
    "    tmp = Y-X\n",
    "    if tmp%10 == 0:\n",
    "        print(tmp//10)\n",
    "    else:\n",
    "        print(tmp//10+1)\n"
   ]
  },
  {
   "cell_type": "code",
   "execution_count": null,
   "metadata": {},
   "outputs": [],
   "source": [
    "c=CNT()\n",
    "#232d\n",
    "\n",
    "\n",
    "H,W = map(int,input().split())\n",
    "grid = [list(map(str, list(input()))) for l in range(H)]\n",
    "\n",
    "for i in range(H):\n",
    "    for j in range(W):\n",
    "        if grid[i][j] == \".\":\n",
    "            grid[i][j] = 0\n",
    "        else:\n",
    "            grid[i][j] = -1\n",
    "\n",
    "cnt = 0\n",
    "grid[0][0] = 1\n",
    "for i in range(H):\n",
    "    for j in range(W):\n",
    "        if grid[i][j] > 0:\n",
    "            if i+1 < H and grid[i+1][j] != -1: \n",
    "                grid[i+1][j] = grid[i][j]+1\n",
    "            if j+1 < W and grid[i][j+1] != -1: \n",
    "                grid[i][j+1] = grid[i][j]+1\n",
    "            if cnt < grid[i][j]: cnt = grid[i][j]\n",
    "\n",
    "\n",
    "print(cnt)"
   ]
  },
  {
   "cell_type": "code",
   "execution_count": null,
   "metadata": {},
   "outputs": [],
   "source": [
    "c=CNT()\n",
    "#232c\n",
    "\n",
    "N,M=map(int,input().split())\n",
    "ab = [map(int, input().split()) for _ in range(M)]\n",
    "cd = [map(int, input().split()) for _ in range(M+1,M*2+1)]\n",
    "A,B = [list(i) for i in zip(*ab)]\n",
    "C,D = [list(i) for i in zip(*cd)]\n",
    "\n"
   ]
  },
  {
   "cell_type": "code",
   "execution_count": null,
   "metadata": {},
   "outputs": [],
   "source": [
    "c=CNT()\n",
    "#232b\n",
    "\n",
    "S = input()\n",
    "T = input()\n",
    "\n",
    "S = list(S)\n",
    "diff = [26 for i in range(len(S))]\n",
    "\n",
    "for i in range(len(S)):\n",
    "    diff[i] += (ord(S[i]) - ord(T[i]))%26\n",
    "\n",
    "if diff.count(diff[0]) == len(diff):\n",
    "    print(\"Yes\")\n",
    "else:\n",
    "    print(\"No\")"
   ]
  },
  {
   "cell_type": "code",
   "execution_count": null,
   "metadata": {},
   "outputs": [],
   "source": [
    "c=CNT()\n",
    "#232a\n",
    "\n",
    "S = list(str(input().split()))\n",
    "\n",
    "print(int(S[2])*int(S[4]))"
   ]
  },
  {
   "cell_type": "code",
   "execution_count": null,
   "metadata": {},
   "outputs": [],
   "source": [
    "c = CNT()\n",
    "#230c\n",
    "\n",
    "N, A, B = map(int, input().split())\n",
    "P, Q, R, S = map(int, input().split())\n",
    "\n",
    "masu = [['.']*(Q-R+1) for i in range(S-R+1)]\n",
    "\n",
    "l = max(1-A, 1-B)\n",
    "u = min(N-A, N-B)\n",
    "while l != u:\n",
    "    i = A+l\n",
    "    j = B+l\n",
    "    print(i,j)\n",
    "    if (P <= i and i <= Q) and (R <= j and j <= S):\n",
    "        masu[i][j] = '#'\n",
    "    l+=1\n",
    "\n",
    "print(masu)"
   ]
  },
  {
   "cell_type": "code",
   "execution_count": null,
   "metadata": {},
   "outputs": [],
   "source": [
    "c = CNT()\n",
    "#230b\n",
    "\n",
    "S = str(input())\n",
    "meta = 'oxx'\n",
    "flag = False\n",
    "\n",
    "if len(S) < 4:\n",
    "    if S in meta:\n",
    "        flag = True\n",
    "else:\n",
    "    head = S[0:S.find(meta)]\n",
    "    end = S[:S.rfind(meta)+2:-1]\n",
    "    mid = S[S.find(meta):S.rfind(meta)+3]\n",
    "    if mid.replace(meta, '') == '':\n",
    "        if head == \"x\" or head == \"xx\" or head == \"\":\n",
    "            if end == \"o\" or end == \"ox\" or end == \"\":\n",
    "                flag = True\n",
    "\n",
    "if flag == True:\n",
    "    print(\"Yes\")\n",
    "else:\n",
    "    print(\"No\")"
   ]
  },
  {
   "cell_type": "code",
   "execution_count": null,
   "metadata": {},
   "outputs": [],
   "source": [
    "c = CNT()\n",
    "#230a\n",
    "\n",
    "N = int(input())\n",
    "\n",
    "if N < 42:\n",
    "    print('AGC'+format(N,'03'))\n",
    "else:\n",
    "    print('AGC'+format(N+1,'03'))"
   ]
  },
  {
   "cell_type": "code",
   "execution_count": null,
   "metadata": {},
   "outputs": [],
   "source": [
    "c = CNT()\n",
    "\n",
    "#229c\n",
    "import math\n",
    "N, W = map(int, input().split())\n",
    "l = [list(map(int, input().split())) for l in range(N)]\n",
    "l = sorted(l, reverse=True)\n",
    "\n",
    "weight = W\n",
    "deli = 0\n",
    "\n",
    "while weight != 0:\n",
    "    if not l: break\n",
    "    a = l[0][0]\n",
    "    b = l[0][1]\n",
    "    if weight > b:\n",
    "        deli += a*b\n",
    "        weight -= l.pop(0)[1]\n",
    "    else:\n",
    "        left = 0\n",
    "        right = weight\n",
    "        while right-left > 1:\n",
    "            mid = math.floor((right+left) / 2)\n",
    "            if mid > weight:\n",
    "                right = mid\n",
    "            else:\n",
    "                left = mid\n",
    "        deli += right * a\n",
    "        weight -= right\n",
    "        break\n",
    "\n",
    "if deli < W:\n",
    "    print(W)\n",
    "else:\n",
    "    print(deli)"
   ]
  },
  {
   "cell_type": "code",
   "execution_count": null,
   "metadata": {},
   "outputs": [],
   "source": [
    "c = CNT()\n",
    "\n",
    "#229b\n",
    "A, B = map(str, input().split())\n",
    "\n",
    "flag = False\n",
    "if len(A) > len(B):\n",
    "    upper = len(A)\n",
    "    B = format(B, '0>'+str(upper))\n",
    "else:\n",
    "    upper = len(B)\n",
    "    A = format(A, '0>'+str(upper))\n",
    "\n",
    "while(upper > 0):\n",
    "    if int(A[upper-1]) + int(B[upper-1]) > 9:\n",
    "        flag = True\n",
    "        break\n",
    "    else:\n",
    "        upper -= 1\n",
    "\n",
    "if flag: print('Hard') \n",
    "else: print('Easy')\n",
    "\n"
   ]
  },
  {
   "cell_type": "code",
   "execution_count": null,
   "metadata": {},
   "outputs": [],
   "source": [
    "c = CNT()\n",
    "\n",
    "#229a\n",
    "grid = [list(map(str, input())) for l in range(2)]\n",
    "A = [['.', '#'], ['#', '.']]\n",
    "B = [['#', '.'], ['.', '#']]\n",
    "\n",
    "if grid == A or grid == B:\n",
    "    print('No')\n",
    "else:\n",
    "    print('Yes')"
   ]
  },
  {
   "cell_type": "code",
   "execution_count": null,
   "metadata": {},
   "outputs": [],
   "source": [
    "c = CNT()\n",
    "\n",
    "#228d\n",
    "Q = int(input())\n",
    "tx = [map(int, input().split()) for _ in range(Q)]\n",
    "t, x = [list(i) for i in zip(*tx)]\n",
    "N = 2**20\n",
    "A = [-1] * N\n",
    "\n",
    "for i in range(Q):\n",
    "    if t[i] == 1:\n",
    "        index = uf[x[i] % N]\n",
    "        while A[index] != -1:\n",
    "            index = uf[index]\n",
    "        \n",
    "        A[index] = x[i]\n",
    "\n",
    "        index_next = (index + 1) % N\n",
    "        while A[index_next] != -1:\n",
    "            index_next = uf[index_next]\n",
    "\n",
    "        uf[index] = index_next\n",
    "\n",
    "    else:\n",
    "        print(A[x[i] % N])"
   ]
  },
  {
   "cell_type": "code",
   "execution_count": null,
   "metadata": {},
   "outputs": [],
   "source": [
    "c = CNT()\n",
    "\n",
    "#228c\n",
    "N, K = map(int, input().split())\n",
    "A = [list(map(int, input().split())) for l in range(N)]\n",
    "l_sum = [a[0]+a[1]+a[2] for a in A]\n",
    "l = l_sum.copy()\n",
    "l.sort(reverse=True)\n",
    "mn = l[K-1]\n",
    "\n",
    "for d in l_sum:\n",
    "    if d + 300 >= mn:\n",
    "        print(\"Yes\")\n",
    "    else:\n",
    "        print(\"No\")\n"
   ]
  },
  {
   "cell_type": "code",
   "execution_count": null,
   "metadata": {},
   "outputs": [],
   "source": [
    "c = CNT()\n",
    "\n",
    "#228b\n",
    "N, L = map(int, input().split())\n",
    "A = list(map(int, input().split()))\n",
    "\n",
    "l_fri = list(range(1, N+1))\n",
    "l_flg = [0] * N\n",
    "dic = dict(zip(l_fri,l_flg))\n",
    "i = L\n",
    "cnt = 0\n",
    "\n",
    "while(dic[i] != 1):\n",
    "    dic[i] = 1\n",
    "    i = A[i-1]\n",
    "    cnt += 1\n",
    "\n",
    "\n",
    "print(cnt)"
   ]
  },
  {
   "cell_type": "code",
   "execution_count": null,
   "metadata": {},
   "outputs": [],
   "source": [
    "c = CNT()\n",
    "\n",
    "#228a\n",
    "S, T, X = map(int, input().split())\n",
    "\n",
    "if S < T:\n",
    "    if S <= X and X < T:\n",
    "        print(\"Yes\")\n",
    "    else:\n",
    "        print(\"No\")\n",
    "else:\n",
    "    if T <= X and X < S:\n",
    "        print(\"No\")\n",
    "    else:\n",
    "        print(\"Yes\")"
   ]
  }
 ],
 "metadata": {
  "interpreter": {
   "hash": "31f2aee4e71d21fbe5cf8b01ff0e069b9275f58929596ceb00d14d90e3e16cd6"
  },
  "kernelspec": {
   "display_name": "Python 3.8.9 64-bit",
   "language": "python",
   "name": "python3"
  },
  "language_info": {
   "codemirror_mode": {
    "name": "ipython",
    "version": 3
   },
   "file_extension": ".py",
   "mimetype": "text/x-python",
   "name": "python",
   "nbconvert_exporter": "python",
   "pygments_lexer": "ipython3",
   "version": "3.8.9"
  },
  "orig_nbformat": 4
 },
 "nbformat": 4,
 "nbformat_minor": 2
}
