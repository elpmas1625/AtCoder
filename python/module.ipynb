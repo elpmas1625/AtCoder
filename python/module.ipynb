{
 "cells": [
  {
   "cell_type": "code",
   "execution_count": 11,
   "metadata": {},
   "outputs": [
    {
     "name": "stdout",
     "output_type": "stream",
     "text": [
      "18\n"
     ]
    }
   ],
   "source": [
    "#進数変換\n",
    "\n",
    "def chgBase(args, N):\n",
    "    # n進数 -> 10進数\n",
    "    num10 = int(args,8)\n",
    "\n",
    "    # 10進数 -> n進数\n",
    "    numN = ''\n",
    "    while num10:\n",
    "        if num10%N>=10:\n",
    "            return -1\n",
    "        numN += str(num10%N)\n",
    "        num10 //= N\n",
    "    return int(numN[::-1])\n",
    "\n",
    "print(chgBase(str(21), 9))"
   ]
  },
  {
   "cell_type": "code",
   "execution_count": 23,
   "metadata": {},
   "outputs": [
    {
     "data": {
      "text/plain": [
       "True"
      ]
     },
     "execution_count": 23,
     "metadata": {},
     "output_type": "execute_result"
    }
   ],
   "source": [
    "#回文かどうか\n",
    "#data:list\n",
    "def palindrome(data):\n",
    "    return True if data == data[::-1] else False\n",
    "\n",
    "l = \"012343210\"\n",
    "palindrome(l)"
   ]
  },
  {
   "cell_type": "code",
   "execution_count": 6,
   "metadata": {},
   "outputs": [
    {
     "name": "stdout",
     "output_type": "stream",
     "text": [
      "[0, 0, 1, 3, 6, 10, 15, 21]\n"
     ]
    }
   ],
   "source": [
    "#累積和\n",
    "#data:list\n",
    "def cusum(data):\n",
    "    c = [0 for i in range(len(data)+1)]\n",
    "    for i in range(len(data)):\n",
    "        c[i+1] = c[i] + data[i]\n",
    "    return c\n"
   ]
  },
  {
   "cell_type": "code",
   "execution_count": null,
   "metadata": {},
   "outputs": [],
   "source": [
    "#2分探索\n",
    "#data:list, value:int\n",
    "def binary_search(data, value):\n",
    "    left = 0\n",
    "    right = len(data) -1\n",
    "    while right - left > 1:\n",
    "        mid = (left + right) // 2\n",
    "        if data[mid] == value:\n",
    "            return mid\n",
    "        elif data[mid] < value:\n",
    "            left = mid\n",
    "        else:\n",
    "            right = mid\n",
    "    return -1"
   ]
  },
  {
   "cell_type": "code",
   "execution_count": null,
   "metadata": {},
   "outputs": [],
   "source": [
    "#bit全探索\n",
    "#bit:list\n",
    "def bit=search(bit, N):\n",
    "    for _ in N:\n",
    "        Candidate = \"\"\n",
    "        for d in bit:\n",
    "            "
   ]
  }
 ],
 "metadata": {
  "interpreter": {
   "hash": "31f2aee4e71d21fbe5cf8b01ff0e069b9275f58929596ceb00d14d90e3e16cd6"
  },
  "kernelspec": {
   "display_name": "Python 3.8.9 64-bit",
   "language": "python",
   "name": "python3"
  },
  "language_info": {
   "codemirror_mode": {
    "name": "ipython",
    "version": 3
   },
   "file_extension": ".py",
   "mimetype": "text/x-python",
   "name": "python",
   "nbconvert_exporter": "python",
   "pygments_lexer": "ipython3",
   "version": "3.8.9"
  },
  "orig_nbformat": 4
 },
 "nbformat": 4,
 "nbformat_minor": 2
}
