{
 "cells": [
  {
   "cell_type": "code",
   "execution_count": 1,
   "metadata": {},
   "outputs": [],
   "source": [
    "class CNT:\n",
    "    def __init__(self):\n",
    "        self.x = 0\n",
    "    def __call__(self):\n",
    "        self.x += 1\n",
    "        return self.x        \n",
    "\n",
    "c = CNT()\n",
    "\n",
    "def input():\n",
    "    f = open(\"input.txt\", \"r\")\n",
    "    data = f.read().split(\"\\n\")\n",
    "    f.close()\n",
    "    cnt = c()\n",
    "    if(cnt > len(data)):\n",
    "        print(\"これ以上の入力がありません．\")\n",
    "    else:\n",
    "        ret = data[cnt-1]\n",
    "        return ret"
   ]
  },
  {
   "cell_type": "code",
   "execution_count": 5,
   "metadata": {},
   "outputs": [
    {
     "name": "stdout",
     "output_type": "stream",
     "text": [
      "aattccooddeerrbreeggiunlnaerrccoonntteesstt\n"
     ]
    }
   ],
   "source": [
    "c=CNT()\n",
    "#abc058b\n",
    "\n",
    "O = input()\n",
    "E = input()\n",
    "ans = ''\n",
    "\n",
    "for i in range(len(E)):\n",
    "    ans += O[i] + E[i]\n",
    "\n",
    "if len(O) - len(E) != 0:\n",
    "    ans += O[-1]\n",
    "\n",
    "print(ans)"
   ]
  },
  {
   "cell_type": "code",
   "execution_count": 10,
   "metadata": {},
   "outputs": [
    {
     "name": "stdout",
     "output_type": "stream",
     "text": [
      "LESS\n"
     ]
    }
   ],
   "source": [
    "c=CNT()\n",
    "#abc059\n",
    "\n",
    "A = int(input())\n",
    "B = int(input())\n",
    "\n",
    "if A > B:\n",
    "    print('GREATER')\n",
    "elif A < B:\n",
    "    print('LESS')\n",
    "else:\n",
    "    print('EQUAL')"
   ]
  },
  {
   "cell_type": "code",
   "execution_count": 7,
   "metadata": {},
   "outputs": [
    {
     "name": "stdout",
     "output_type": "stream",
     "text": [
      "2\n",
      "2\n",
      "0\n",
      "0\n",
      "0\n"
     ]
    }
   ],
   "source": [
    "c=CNT()\n",
    "#abc163\n",
    "\n",
    "N = int(input())\n",
    "ans = [0 for _ in range(N)]\n",
    "\n",
    "for i, a in enumerate(list(map(int, input().split()))):\n",
    "    ans[a-1] += 1\n",
    "\n",
    "for a in ans:\n",
    "    print(a)\n"
   ]
  },
  {
   "cell_type": "code",
   "execution_count": 15,
   "metadata": {},
   "outputs": [
    {
     "name": "stdout",
     "output_type": "stream",
     "text": [
      "2\n",
      "3\n"
     ]
    }
   ],
   "source": [
    "c=CNT()\n",
    "#abc149c\n",
    "\n",
    "X = int(input())\n",
    "ans, num = 0, X\n",
    "\n",
    "if X == 1:\n",
    "    print(1)\n",
    "    exit()\n",
    "elif X == 2:\n",
    "    print(2)\n",
    "    exit()A\n",
    "\n",
    "while ans == 0:\n",
    "    for i in range(2, num):\n",
    "        if num % i == 0:\n",
    "            break\n",
    "        if i == num-1:\n",
    "            ans = num\n",
    "    num += 1\n",
    "\n",
    "print(ans)"
   ]
  },
  {
   "cell_type": "code",
   "execution_count": null,
   "metadata": {},
   "outputs": [],
   "source": [
    "c=CNT()\n",
    "#abc079b\n",
    "N = int(input())\n",
    "Lucas = [2, 1]\n",
    "\n",
    "for i in range(2, N+1):\n",
    "    Lucas.append(Lucas[i-1]+Lucas[i-2])\n",
    "print(Lucas[-1])"
   ]
  },
  {
   "cell_type": "code",
   "execution_count": null,
   "metadata": {},
   "outputs": [
    {
     "name": "stdout",
     "output_type": "stream",
     "text": [
      "1 0\n",
      "1 0\n",
      "2 0\n",
      "2 1\n"
     ]
    },
    {
     "ename": "TypeError",
     "evalue": "'str' object is not callable",
     "output_type": "error",
     "traceback": [
      "\u001b[0;31m---------------------------------------------------------------------------\u001b[0m\n",
      "\u001b[0;31mTypeError\u001b[0m                                 Traceback (most recent call last)\n",
      "\u001b[0;32m/var/folders/rv/h3d3_y597hvbnkgdbrl03z040000gn/T/ipykernel_7156/1690069723.py\u001b[0m in \u001b[0;36m<module>\u001b[0;34m\u001b[0m\n",
      "\u001b[1;32m      5\u001b[0m \u001b[0mred\u001b[0m\u001b[0;34m,\u001b[0m \u001b[0mblue\u001b[0m\u001b[0;34m,\u001b[0m \u001b[0mnone\u001b[0m \u001b[0;34m=\u001b[0m \u001b[0;36m0\u001b[0m\u001b[0;34m,\u001b[0m \u001b[0;36m0\u001b[0m\u001b[0;34m,\u001b[0m \u001b[0;36m0\u001b[0m\u001b[0;34m\u001b[0m\u001b[0;34m\u001b[0m\u001b[0m\n",
      "\u001b[1;32m      6\u001b[0m \u001b[0;32mfor\u001b[0m \u001b[0m_\u001b[0m \u001b[0;32min\u001b[0m \u001b[0mrange\u001b[0m\u001b[0;34m(\u001b[0m\u001b[0mN\u001b[0m\u001b[0;34m)\u001b[0m\u001b[0;34m:\u001b[0m\u001b[0;34m\u001b[0m\u001b[0;34m\u001b[0m\u001b[0m\n",
      "\u001b[0;32m----> 7\u001b[0;31m     \u001b[0;32mfor\u001b[0m \u001b[0mc\u001b[0m \u001b[0;32min\u001b[0m \u001b[0minput\u001b[0m\u001b[0;34m(\u001b[0m\u001b[0;34m)\u001b[0m\u001b[0;34m:\u001b[0m\u001b[0;34m\u001b[0m\u001b[0;34m\u001b[0m\u001b[0m\n",
      "\u001b[0m\u001b[1;32m      8\u001b[0m         \u001b[0;32mif\u001b[0m \u001b[0mc\u001b[0m \u001b[0;34m==\u001b[0m \u001b[0;34m'R'\u001b[0m\u001b[0;34m:\u001b[0m\u001b[0;34m\u001b[0m\u001b[0;34m\u001b[0m\u001b[0m\n",
      "\u001b[1;32m      9\u001b[0m             \u001b[0mred\u001b[0m \u001b[0;34m+=\u001b[0m \u001b[0;36m1\u001b[0m\u001b[0;34m\u001b[0m\u001b[0;34m\u001b[0m\u001b[0m\n",
      "\n",
      "\u001b[0;32m/var/folders/rv/h3d3_y597hvbnkgdbrl03z040000gn/T/ipykernel_7156/52062152.py\u001b[0m in \u001b[0;36minput\u001b[0;34m()\u001b[0m\n",
      "\u001b[1;32m     12\u001b[0m     \u001b[0mdata\u001b[0m \u001b[0;34m=\u001b[0m \u001b[0mf\u001b[0m\u001b[0;34m.\u001b[0m\u001b[0mread\u001b[0m\u001b[0;34m(\u001b[0m\u001b[0;34m)\u001b[0m\u001b[0;34m.\u001b[0m\u001b[0msplit\u001b[0m\u001b[0;34m(\u001b[0m\u001b[0;34m\"\\n\"\u001b[0m\u001b[0;34m)\u001b[0m\u001b[0;34m\u001b[0m\u001b[0;34m\u001b[0m\u001b[0m\n",
      "\u001b[1;32m     13\u001b[0m     \u001b[0mf\u001b[0m\u001b[0;34m.\u001b[0m\u001b[0mclose\u001b[0m\u001b[0;34m(\u001b[0m\u001b[0;34m)\u001b[0m\u001b[0;34m\u001b[0m\u001b[0;34m\u001b[0m\u001b[0m\n",
      "\u001b[0;32m---> 14\u001b[0;31m     \u001b[0mcnt\u001b[0m \u001b[0;34m=\u001b[0m \u001b[0mc\u001b[0m\u001b[0;34m(\u001b[0m\u001b[0;34m)\u001b[0m\u001b[0;34m\u001b[0m\u001b[0;34m\u001b[0m\u001b[0m\n",
      "\u001b[0m\u001b[1;32m     15\u001b[0m     \u001b[0;32mif\u001b[0m\u001b[0;34m(\u001b[0m\u001b[0mcnt\u001b[0m \u001b[0;34m>\u001b[0m \u001b[0mlen\u001b[0m\u001b[0;34m(\u001b[0m\u001b[0mdata\u001b[0m\u001b[0;34m)\u001b[0m\u001b[0;34m)\u001b[0m\u001b[0;34m:\u001b[0m\u001b[0;34m\u001b[0m\u001b[0;34m\u001b[0m\u001b[0m\n",
      "\u001b[1;32m     16\u001b[0m         \u001b[0mprint\u001b[0m\u001b[0;34m(\u001b[0m\u001b[0;34m\"これ以上の入力がありません．\"\u001b[0m\u001b[0;34m)\u001b[0m\u001b[0;34m\u001b[0m\u001b[0;34m\u001b[0m\u001b[0m\n",
      "\n",
      "\u001b[0;31mTypeError\u001b[0m: 'str' object is not callable"
     ]
    }
   ],
   "source": [
    "c=CNT()\n",
    "#arc040a\n",
    "\n",
    "N = int(input())\n",
    "red, blue, none = 0, 0, 0\n",
    "for _ in range(N):\n",
    "    for c in input():\n",
    "        if c == 'R':\n",
    "            red += 1\n",
    "        elif c == 'B':\n",
    "            blue += 1\n",
    "        else:\n",
    "            none += 1\n",
    "        print(red, blue)\n",
    "\n",
    "print('TAKAHASHI' if red > blue else 'AOKI' if blue > red else 'DRAW') "
   ]
  },
  {
   "cell_type": "code",
   "execution_count": 31,
   "metadata": {},
   "outputs": [
    {
     "name": "stdout",
     "output_type": "stream",
     "text": [
      "[1, 2, 3]\n",
      "1\n"
     ]
    }
   ],
   "source": [
    "c=CNT()\n",
    "#arc016a\n",
    "\n",
    "N, M = map(int, input().split())\n",
    "op = [i for i in range(1, N+1)]\n",
    "op.pop(M-1)\n",
    "print(op.pop(0))"
   ]
  },
  {
   "cell_type": "code",
   "execution_count": 24,
   "metadata": {},
   "outputs": [
    {
     "name": "stdout",
     "output_type": "stream",
     "text": [
      "9\n"
     ]
    }
   ],
   "source": [
    "c=CNT()\n",
    "#abc098b\n",
    "\n",
    "N = int(input())\n",
    "S = input()\n",
    "\n",
    "ans = 0\n",
    "for i in range(1, N):\n",
    "    cnt = 0\n",
    "    X, Y = sorted(list(set(S[:i]))), sorted(list(set(S[i:])))\n",
    "    chrX, chrY = [False for _ in range(26)], [False for _ in range(26)]\n",
    "    for x in X:\n",
    "        chrX[ord(x)-97] = True\n",
    "    for y in Y:\n",
    "        chrY[ord(y)-97] = True\n",
    "\n",
    "    for j in range(26):\n",
    "        if chrX[j] and chrY[j]:\n",
    "            cnt += 1\n",
    "    if ans < cnt:\n",
    "        ans = cnt\n",
    "\n",
    "\n",
    "print(ans)"
   ]
  },
  {
   "cell_type": "code",
   "execution_count": 4,
   "metadata": {},
   "outputs": [
    {
     "name": "stdout",
     "output_type": "stream",
     "text": [
      "0\n"
     ]
    }
   ],
   "source": [
    "c=CNT()\n",
    "#abc098a\n",
    "\n",
    "A, B = map(int, input().split())\n",
    "add = A+B\n",
    "diff = A-B\n",
    "seki = A*B\n",
    "\n",
    "print(max(add, max(diff, seki)))"
   ]
  }
 ],
 "metadata": {
  "kernelspec": {
   "display_name": "Python 3.8.8 64-bit ('3.8.8')",
   "language": "python",
   "name": "python3"
  },
  "language_info": {
   "codemirror_mode": {
    "name": "ipython",
    "version": 3
   },
   "file_extension": ".py",
   "mimetype": "text/x-python",
   "name": "python",
   "nbconvert_exporter": "python",
   "pygments_lexer": "ipython3",
   "version": "3.8.8"
  },
  "orig_nbformat": 4,
  "vscode": {
   "interpreter": {
    "hash": "f63522d701228a199285ea92bbfb3bdfa669d3fbd7b19441913ac3668fbe2f06"
   }
  }
 },
 "nbformat": 4,
 "nbformat_minor": 2
}
