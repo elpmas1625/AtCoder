{
 "cells": [
  {
   "cell_type": "code",
   "execution_count": 22,
   "metadata": {},
   "outputs": [],
   "source": [
    "class CNT:\n",
    "    def __init__(self):\n",
    "        self.x = 0\n",
    "    def __call__(self):\n",
    "        self.x += 1\n",
    "        return self.x        \n",
    "\n",
    "c = CNT()\n",
    "\n",
    "def input():\n",
    "    f = open(\"input.txt\", \"r\")\n",
    "    data = f.read().split(\"\\n\")\n",
    "    f.close()\n",
    "    cnt = c()\n",
    "    if(cnt > len(data)):\n",
    "        print(\"これ以上の入力がありません．\")\n",
    "    else:\n",
    "        ret = data[cnt-1]\n",
    "        return ret"
   ]
  },
  {
   "cell_type": "code",
   "execution_count": 65,
   "metadata": {},
   "outputs": [
    {
     "name": "stdout",
     "output_type": "stream",
     "text": [
      "4\n"
     ]
    }
   ],
   "source": [
    "import bisect\n",
    "\n",
    "L = [2, 3, 7, 10]\n",
    "\n",
    "print(bisect.bisect_left(L, 11))"
   ]
  },
  {
   "cell_type": "code",
   "execution_count": 66,
   "metadata": {},
   "outputs": [
    {
     "name": "stdout",
     "output_type": "stream",
     "text": [
      "64\n"
     ]
    }
   ],
   "source": [
    "c=CNT()\n",
    "#152b\n",
    "\n",
    "\n",
    "import bisect\n",
    "\n",
    "N, L = map(int, input().split())\n",
    "A = list(map(int, input().split()))\n",
    "\n",
    "ans = 4*L\n",
    "for i in range(N):\n",
    "    pos = bisect.bisect_left(A, L-A[i])\n",
    "    if pos == 0:\n",
    "        pass\n",
    "    elif pos == N:\n",
    "        pos = pos-1\n",
    "    elif abs(L-A[i]-A[pos]) > abs(L-A[i]-A[pos-1]):\n",
    "        pos = pos-1\n",
    "    dt = abs((A[i]*2 + abs(A[i]-A[pos])) - (L-A[i] + L-A[pos]))\n",
    "    ans = min(ans, 2*L + dt)\n",
    "\n",
    "print(ans)"
   ]
  },
  {
   "cell_type": "code",
   "execution_count": 4,
   "metadata": {},
   "outputs": [
    {
     "name": "stdout",
     "output_type": "stream",
     "text": [
      "Yes\n"
     ]
    }
   ],
   "source": [
    "c=CNT()\n",
    "#152a\n",
    "\n",
    "N, L = map(int, input().split())\n",
    "A = list(map(int, input().split()))\n",
    "\n",
    "n = 0\n",
    "i = 0\n",
    "while True:\n",
    "    if i == N:\n",
    "        print(\"Yes\")\n",
    "        exit()\n",
    "    if L < n+A[i]:\n",
    "        break\n",
    "    n += A[i]+1\n",
    "    i += 1\n",
    "\n",
    "if 2 in A[i:]:\n",
    "    print(\"No\")\n",
    "else:\n",
    "    print(\"Yes\")"
   ]
  },
  {
   "cell_type": "code",
   "execution_count": 67,
   "metadata": {},
   "outputs": [
    {
     "name": "stdout",
     "output_type": "stream",
     "text": [
      "-1\n",
      "-1\n",
      "-1\n",
      "-1\n",
      "-1\n",
      "-1\n",
      "7 8 1 2 3 4 5 6\n"
     ]
    },
    {
     "ename": "",
     "evalue": "",
     "output_type": "error",
     "traceback": [
      "\u001b[1;31m現在のセルまたは前のセルでコードを実行中に、カーネルがクラッシュしました。エラーの原因を特定するには、セル内のコードを確認してください。詳細については、<a href='https://aka.ms/vscodeJupyterKernelCrash'>こちら</a> をクリックしてください。さらなる詳細については、Jupyter [log] (command:jupyter.viewOutput) を参照してください。"
     ]
    }
   ],
   "source": [
    "c=CNT()\n",
    "#144c\n",
    "\n",
    "N, K = map(int, input().split())\n",
    "ans = list()\n",
    "f = True\n",
    "\n",
    "for i in range(1,N+1):\n",
    "    if K+i <= N:\n",
    "        ans.append(K+i)\n",
    "    else:\n",
    "        if f:\n",
    "            n = len(ans)\n",
    "            f = False\n",
    "        ans.append(i-n)\n",
    "\n",
    "for i, a in enumerate(ans):\n",
    "    if abs(a-i) < K:\n",
    "        print(-1)\n",
    "        exit()\n",
    "\n",
    "print(*ans)"
   ]
  },
  {
   "cell_type": "code",
   "execution_count": 49,
   "metadata": {},
   "outputs": [
    {
     "name": "stdout",
     "output_type": "stream",
     "text": [
      "[1, 2, 11]\n",
      "[2, 5, 5]\n",
      "[2, 5, 5]\n",
      "2\n"
     ]
    }
   ],
   "source": [
    "c=CNT()\n",
    "#144b\n",
    "\n",
    "N, a, b = map(int, input().split())\n",
    "A = list(map(int, input().split()))\n",
    "\n",
    "\n"
   ]
  },
  {
   "cell_type": "code",
   "execution_count": 31,
   "metadata": {},
   "outputs": [
    {
     "name": "stdout",
     "output_type": "stream",
     "text": [
      "200\n",
      "4444444444444444444444444\n"
     ]
    }
   ],
   "source": [
    "c=CNT()\n",
    "#144a\n",
    "\n",
    "def sumline(argl):\n",
    "    return sum(list(map(int, str(argl))))\n",
    "\n",
    "N = int(input())\n",
    "n = 4\n",
    "M = 2 * N\n",
    "print(M)\n",
    "\n",
    "while True:\n",
    "    if n == 0:\n",
    "        break\n",
    "    if N//n == 0:\n",
    "        n -= 1\n",
    "        continue\n",
    "\n",
    "    x = str(n)*(N//n)\n",
    "\n",
    "    if N%n != 0:\n",
    "        x = str(N%n) + x\n",
    "    print(x)\n",
    "    n -= 1\n",
    "    break\n"
   ]
  },
  {
   "cell_type": "code",
   "execution_count": 30,
   "metadata": {},
   "outputs": [
    {
     "name": "stdout",
     "output_type": "stream",
     "text": [
      "1 4 2 5 3 6\n",
      "7 10 8 11 9 12\n",
      "13 16 14 17 15 18\n",
      "19 22 20 23 21 24\n",
      "25 28 26 29 27 30\n",
      "31 34 32 35 33 36\n"
     ]
    }
   ],
   "source": [
    "c=CNT()\n",
    "#142b\n",
    "\n",
    "N = int(input())\n",
    "ans = list()\n",
    "tmp = list()\n",
    "\n",
    "n = 1\n",
    "for j in range(N):\n",
    "    tmp.append(n)\n",
    "    k = N//2 if N%2 == 0 else N//2+1\n",
    "    if j%2 == 0:\n",
    "        n += k\n",
    "    else:\n",
    "        n -= k-1\n",
    "\n",
    "ans.append(tmp)\n",
    "\n",
    "for _ in range(N-1):\n",
    "    tmp = list()\n",
    "    for j in range(N):\n",
    "        tmp.append(ans[-1][j]+N)\n",
    "    ans.append(tmp)\n",
    "\n",
    "for a in ans:\n",
    "    print(*a)"
   ]
  },
  {
   "cell_type": "code",
   "execution_count": 9,
   "metadata": {},
   "outputs": [
    {
     "name": "stdout",
     "output_type": "stream",
     "text": [
      "2\n"
     ]
    }
   ],
   "source": [
    "c=CNT()\n",
    "#142a\n",
    "\n",
    "N, K = map(int, input().split())\n",
    "\n",
    "n, revn = K, int(str(K)[::-1])\n",
    "ans = 0\n",
    "\n",
    "if n > revn:\n",
    "    print(ans)\n",
    "    exit()\n",
    "\n",
    "while n <= N:\n",
    "    if n <= N:\n",
    "        ans += 1\n",
    "    n = int(str(n)+'0')\n",
    "\n",
    "while revn <= N:\n",
    "    if revn <= N:\n",
    "        ans += 1\n",
    "    revn = int(str(revn)+'0')\n",
    "\n",
    "print(ans//2 if n == revn else ans)"
   ]
  },
  {
   "cell_type": "code",
   "execution_count": 68,
   "metadata": {},
   "outputs": [
    {
     "name": "stdout",
     "output_type": "stream",
     "text": [
      "[3, 6, 48, 192]\n"
     ]
    }
   ],
   "source": [
    "c=CNT()\n",
    "#139a\n",
    "\n",
    "N = int(input())\n",
    "T = list(map(int, input().split()))\n",
    "A = [0 for _ in range(N)]\n",
    "num = 1\n",
    "\n",
    "for i in range(N):\n",
    "    \n",
    "    A[i] = num\n",
    "\n",
    "print(A)\n",
    "\n",
    "# print(ans)\n",
    "# ans = ans >> 1\n",
    "# print(ans)"
   ]
  },
  {
   "cell_type": "code",
   "execution_count": 4,
   "metadata": {},
   "outputs": [
    {
     "name": "stdout",
     "output_type": "stream",
     "text": [
      "13\n"
     ]
    }
   ],
   "source": [
    "c=CNT()\n",
    "#138a\n",
    "\n",
    "N, K = map(int, input().split())\n",
    "A = list(map(int, input().split()))\n",
    "A_sorted = sorted(A, reverse=True)\n",
    "ans = 100000000\n",
    "s = sum(A[:K])\n",
    "s_mx = sum(A_sorted[:K])\n",
    "\n",
    "if s >= s_mx:\n",
    "    print(-1)\n",
    "    exit()\n",
    "\n",
    "for i in range(K):\n",
    "    for j in range(K, N):\n",
    "        if A[i] < A[j]:\n",
    "            # print(A[i],A[j], K-i)\n",
    "            ans = min(ans, (K-i)+(j-K))\n",
    "            break\n",
    "\n",
    "print(ans)"
   ]
  },
  {
   "cell_type": "code",
   "execution_count": 5,
   "metadata": {},
   "outputs": [
    {
     "name": "stdout",
     "output_type": "stream",
     "text": [
      "[0, 0, 0, 0]\n"
     ]
    }
   ],
   "source": [
    "c=CNT()\n",
    "#137b\n",
    "\n",
    "N = int(input())\n",
    "A = list(map(int, input().split()))\n",
    "B = [0 for _ in range(N)]\n",
    "\n",
    "for i in range(N):\n",
    "    if A[i] == 0:\n",
    "        B[i] =\n",
    "\n",
    "print(B)\n"
   ]
  },
  {
   "cell_type": "code",
   "execution_count": 6,
   "metadata": {},
   "outputs": [
    {
     "name": "stdout",
     "output_type": "stream",
     "text": [
      "5\n",
      "5\n",
      "4\n",
      "4\n",
      "3\n",
      "3\n",
      "3\n",
      "2\n",
      "2\n",
      "2\n",
      "1\n",
      "1\n",
      "1\n",
      "1\n",
      "1\n",
      "1\n",
      "1\n"
     ]
    }
   ],
   "source": [
    "c=CNT()\n",
    "#137a\n",
    "\n",
    "L, R = map(int, input().split())\n",
    "\n",
    "for i in range(0, R-L):\n",
    "    for j in range(i+1):\n",
    "        a, b = L+j, (R-i)+j\n",
    "        r = a % b\n",
    "        while r != 0:\n",
    "            a = b\n",
    "            b = r\n",
    "            r = a % b\n",
    "        if b == 1:\n",
    "            print((R-L)-i)\n",
    "            exit()"
   ]
  }
 ],
 "metadata": {
  "interpreter": {
   "hash": "31f2aee4e71d21fbe5cf8b01ff0e069b9275f58929596ceb00d14d90e3e16cd6"
  },
  "kernelspec": {
   "display_name": "Python 3.8.9 64-bit",
   "language": "python",
   "name": "python3"
  },
  "language_info": {
   "codemirror_mode": {
    "name": "ipython",
    "version": 3
   },
   "file_extension": ".py",
   "mimetype": "text/x-python",
   "name": "python",
   "nbconvert_exporter": "python",
   "pygments_lexer": "ipython3",
   "version": "3.8.9"
  },
  "orig_nbformat": 4
 },
 "nbformat": 4,
 "nbformat_minor": 2
}
