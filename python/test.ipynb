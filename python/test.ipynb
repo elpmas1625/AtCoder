{
 "cells": [
  {
   "cell_type": "code",
   "execution_count": 8,
   "metadata": {},
   "outputs": [],
   "source": [
    "class CNT:\n",
    "    def __init__(self):\n",
    "        self.x = 0\n",
    "    def __call__(self):\n",
    "        self.x += 1\n",
    "        return self.x        \n",
    "\n",
    "c = CNT()\n",
    "\n",
    "def input():\n",
    "    f = open(\"input.txt\", \"r\")\n",
    "    data = f.read().split(\"\\n\")\n",
    "    f.close()\n",
    "    cnt = c()\n",
    "    if(cnt > len(data)):\n",
    "        print(\"これ以上の入力がありません．\")\n",
    "    else:\n",
    "        ret = data[cnt-1]\n",
    "        return ret"
   ]
  },
  {
   "cell_type": "code",
   "execution_count": 34,
   "metadata": {},
   "outputs": [
    {
     "name": "stdout",
     "output_type": "stream",
     "text": [
      "1 1 B ['W', 'B', 'B', 'W']\n",
      "1 7 B ['W', 'W', 'W', 'W']\n",
      "2 6 B ['W', 'W', 'W', 'W']\n",
      "3 5 B ['W', 'W', 'W', 'W']\n",
      "4 2 B ['W', 'B', 'W', 'W']\n",
      "4 6 B ['W', 'B', 'B', 'W']\n"
     ]
    },
    {
     "data": {
      "text/plain": [
       "<function print>"
      ]
     },
     "execution_count": 34,
     "metadata": {},
     "output_type": "execute_result"
    }
   ],
   "source": [
    "c=CNT()\n",
    "\n",
    "H, W = map(int, input().split())\n",
    "P = ['W'*(W+2)] + ['W' + input() + 'W' for _ in range(H)] + ['W'*(W+2)]\n",
    "\n",
    "def neighbor4(i, j):\n",
    "    return [P[i-1][j], P[i][j+1], P[i+1][j], P[i][j-1]]\n",
    "\n",
    "for i in range(H+2):\n",
    "    for j in range(W+2):\n",
    "        if P[i][j] == 'B' and neighbor4(i, j)[0] != 'B' and neighbor4(i, j)[3] != 'B':\n",
    "            print(i, j, P[i][j], neighbor4(i, j))\n",
    "    #     print(P[i][j], end='')\n",
    "    # print()\n",
    "\n",
    "print"
   ]
  },
  {
   "cell_type": "code",
   "execution_count": 60,
   "metadata": {},
   "outputs": [
    {
     "name": "stdout",
     "output_type": "stream",
     "text": [
      "6\n"
     ]
    }
   ],
   "source": [
    "c=CNT()\n",
    "\n",
    "N, X, F, S = map(int, input().split())\n",
    "\n",
    "DP = [[X, X-F, 1]]\n",
    "tmp = list()\n",
    "\n",
    "ans = 10**3\n",
    "\n",
    "i = 0\n",
    "while True:\n",
    "    tmp = list()    \n",
    "    for dp in DP:\n",
    "        if dp[1] != X:\n",
    "            tmp.append([dp[0], min(dp[1]+S, X), dp[2]+3])\n",
    "        if dp[1] - F >= 0:\n",
    "            if dp[0]+dp[1] >= N:\n",
    "                ans = min(ans, dp[2]+1)\n",
    "            else:\n",
    "                tmp.append([dp[0]+dp[1], max(dp[1]-F, 0), dp[2]+1])\n",
    "    DP = tmp\n",
    "    if len(DP) == 0 :\n",
    "        break\n",
    "\n",
    "print(ans)"
   ]
  }
 ],
 "metadata": {
  "kernelspec": {
   "display_name": "Python 3",
   "language": "python",
   "name": "python3"
  },
  "language_info": {
   "codemirror_mode": {
    "name": "ipython",
    "version": 3
   },
   "file_extension": ".py",
   "mimetype": "text/x-python",
   "name": "python",
   "nbconvert_exporter": "python",
   "pygments_lexer": "ipython3",
   "version": "3.8.9 (default, Aug  3 2021, 19:21:54) \n[Clang 13.0.0 (clang-1300.0.29.3)]"
  },
  "orig_nbformat": 4,
  "vscode": {
   "interpreter": {
    "hash": "31f2aee4e71d21fbe5cf8b01ff0e069b9275f58929596ceb00d14d90e3e16cd6"
   }
  }
 },
 "nbformat": 4,
 "nbformat_minor": 2
}
